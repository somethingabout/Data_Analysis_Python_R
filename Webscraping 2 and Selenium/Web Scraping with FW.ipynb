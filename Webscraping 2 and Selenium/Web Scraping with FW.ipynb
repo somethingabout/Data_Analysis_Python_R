{
 "cells": [
  {
   "cell_type": "markdown",
   "id": "cbf3cf8c",
   "metadata": {},
   "source": [
    "# Before we start, You need to downlaod a driver \n",
    "***\n",
    "### In order to use selenium you need to download a webdriver. \n",
    "* A webdriver is a browser that you can control with your code, clicking puttons, scrolling through webpages, and collecting information right from the website. \n",
    "* Allows for another from of webscraping for websites that use dynanic content using javascrict (i.e. hidden data, popups, ect.) \n",
    "***\n",
    "## If you have not already done this, Run the pip install code below to get started "
   ]
  },
  {
   "cell_type": "code",
   "execution_count": 59,
   "id": "71be901b-e725-49b9-bd11-154c82a3ea42",
   "metadata": {},
   "outputs": [],
   "source": [
    "# !pip install selenium"
   ]
  },
  {
   "cell_type": "code",
   "execution_count": 13,
   "id": "4be545f0",
   "metadata": {},
   "outputs": [],
   "source": [
    "from pathlib import Path, PureWindowsPath # For windows only \n",
    "import os \n",
    "\n",
    "import time\n",
    "from time import sleep\n",
    "import selenium #Need this step \n",
    "from selenium import webdriver #Need this step \n",
    "\n",
    "from selenium.webdriver.common.by import By #Allows for selenium to click things \n",
    "from selenium.webdriver.chrome.service import Service #https://stackoverflow.com/questions/64717302/deprecationwarning-executable-path-has-been-deprecated-selenium-python\n",
    "from selenium.webdriver.support import expected_conditions as EC #Allows for more complex code \n",
    "from selenium.webdriver.chrome.options import Options #Allows you to change aspects of the browser\n",
    "chrome_options = Options() "
   ]
  },
  {
   "cell_type": "markdown",
   "id": "249b5ed6",
   "metadata": {},
   "source": [
    "# What is Selenium?\n",
    "#### It is a tool that enables coders to automate web browsers. \n",
    "* Not origally made for webscraping, slenium was used gto test websites. \n",
    "* It is useful for webscraping becasue you can intract with websites dirctly and gain acess to data that would have been perviously hidden. \n",
    "***\n",
    "Finding Locators is the first task for selenium webscraping\n",
    "#### Think of selenium as the treasure map, locators are the stars, the webdriver is the boat, and you are the captain. \n",
    "***\n",
    "Further reading links:\n",
    "* [Anout Webdrivers](https://www.selenium.dev/documentation/webdriver/getting_started/)\n",
    "* [What are CSS selectors](https://www.w3schools.com/cssref/css_selectors.php \n",
    ")\n",
    "* [CSS Selctor and XPATH tools](https://chrome.google.com/webstore/detail/selectorgadget/mhjhnkcfbdhnjickkkdbjoemdmbfginb?hl=en)\n",
    "* [Sleenium Documentation](https://selenium-python.readthedocs.io/)\n",
    "***\n",
    "# 1. Getting data from a webpage  "
   ]
  },
  {
   "cell_type": "code",
   "execution_count": 17,
   "id": "4f1f90fc-d65e-4077-971b-6ad592fb4a8b",
   "metadata": {
    "scrolled": true
   },
   "outputs": [
    {
     "name": "stdout",
     "output_type": "stream",
     "text": [
      "['Bon Appétit']\n"
     ]
    }
   ],
   "source": [
    "driver = webdriver.Chrome()\n",
    "chrome_options.add_argument(\"--window-size=1900,1000\") #pick a size and stick with it, it can change how code intreacts with the website.\n",
    "driver = webdriver.Chrome(options = chrome_options)\n",
    "#__________________________________________________________________________________________________#\n",
    "youtube_url = \"https://www.youtube.com/@bonappetit/featured\"\n",
    "driver.get(youtube_url)\n",
    "\n",
    "yt_title = []\n",
    "title = driver.find_element(By.XPATH, './/*[@id=\"text-container\"]').text #XPATH Version \n",
    "#title = driver.find_element(By.CSS_SELECTOR, '#text').text #This is the CSS Selector Verison\n",
    "\n",
    "yt_title.append(title)\n",
    "print(yt_title)"
   ]
  },
  {
   "cell_type": "code",
   "execution_count": 18,
   "id": "92e46264",
   "metadata": {},
   "outputs": [],
   "source": [
    "driver.quit()"
   ]
  },
  {
   "cell_type": "markdown",
   "id": "408a6037",
   "metadata": {},
   "source": [
    "# 2. Adding multiple urls that you want to pull info from"
   ]
  },
  {
   "cell_type": "code",
   "execution_count": 19,
   "id": "b94eadd8",
   "metadata": {},
   "outputs": [
    {
     "name": "stdout",
     "output_type": "stream",
     "text": [
      "['Bon Appétit', 'Architectural Digest', 'SmarterEveryDay']\n"
     ]
    }
   ],
   "source": [
    "driver = webdriver.Chrome()\n",
    "chrome_options.add_argument(\"--window-size=1900,1000\") #pick a size and stick with it, it can change how code intreacts with the website.\n",
    "driver = webdriver.Chrome(options = chrome_options)\n",
    "#__________________________________________________________________________________________________#\n",
    "youtube_urls = [\"https://www.youtube.com/@bonappetit/featured\", 'https://www.youtube.com/user/ArchitecturalDigest', 'https://www.youtube.com/user/destinws2']\n",
    "\n",
    "counter = 0\n",
    "yt_title = []\n",
    "\n",
    "for u in youtube_urls: \n",
    "    driver.get(youtube_urls[0+counter])\n",
    "    driver.implicitly_wait(7)\n",
    "    title = driver.find_element(By.XPATH, './/*[@id=\"text-container\"]').text\n",
    "    counter += 1\n",
    "    yt_title.append(title)\n",
    "    \n",
    "print(yt_title)"
   ]
  },
  {
   "cell_type": "code",
   "execution_count": 27,
   "id": "c9c7ce5c",
   "metadata": {},
   "outputs": [],
   "source": [
    "driver.quit()"
   ]
  },
  {
   "cell_type": "markdown",
   "id": "7f10aca1",
   "metadata": {},
   "source": [
    "# 3.Interacting with the website through buttons "
   ]
  },
  {
   "cell_type": "code",
   "execution_count": 28,
   "id": "0db6dfe4",
   "metadata": {},
   "outputs": [
    {
     "name": "stdout",
     "output_type": "stream",
     "text": [
      "non_text version:  <selenium.webdriver.remote.webelement.WebElement (session=\"d38b6ac92c350cc2dd5669744315efd5\", element=\"f.DC6032174D98000D77E0E2960A6F895E.d.CC725F550FFB621FDCD9DE54B290F1F6.e.49\")>\n",
      "Text version:  twitter.com/bonappetit\n"
     ]
    }
   ],
   "source": [
    "driver = webdriver.Chrome()\n",
    "chrome_options.add_argument(\"--window-size=1920,1080\") #pick a size and stick with it, it can change how code intreacts with the website.\n",
    "driver = webdriver.Chrome(options = chrome_options)\n",
    "#____________________________________________________________________________________________________#\n",
    "youtube_url = \"https://www.youtube.com/@bonappetit/featured\"\n",
    "driver.get(youtube_url)\n",
    "\n",
    "driver.implicitly_wait(7)\n",
    "driver.find_element(By.XPATH, '//*[@id=\"more-icon\"]/yt-icon-shape/icon-shape/div').click()\n",
    "twitter = driver.find_element(By.XPATH,'//*[@id=\"link-list-container\"]/yt-channel-external-link-view-model[2]/div/span[2]/a')\n",
    "\n",
    "print(' ')\n",
    "print(\"Non_text version: \", tot_views)\n",
    "print(\"Text version: \", twitter.text)"
   ]
  },
  {
   "cell_type": "code",
   "execution_count": 29,
   "id": "5f07dd64",
   "metadata": {},
   "outputs": [],
   "source": [
    "driver.quit()"
   ]
  },
  {
   "cell_type": "markdown",
   "id": "e327d0b2",
   "metadata": {},
   "source": [
    "# 4. Scrolling through a website "
   ]
  },
  {
   "cell_type": "code",
   "execution_count": 34,
   "id": "4a45f0d8",
   "metadata": {},
   "outputs": [
    {
     "name": "stdout",
     "output_type": "stream",
     "text": [
      " \n",
      "The driver has Scrolled\n"
     ]
    }
   ],
   "source": [
    "driver = webdriver.Chrome()\n",
    "chrome_options.add_argument(\"--window-size=1900,1000\") #pick a size and stick with it, it can change how code intreacts with the website.\n",
    "driver = webdriver.Chrome(options = chrome_options)\n",
    "#____________________________________________________________________________________________________#\n",
    "youtube_url = \"https://www.youtube.com/@bonappetit/featured\"\n",
    "driver.get(youtube_url)\n",
    "\n",
    "driver.implicitly_wait(20)\n",
    "\n",
    "driver.execute_script(\"window.scrollBy(0, 2000)\")\n",
    "print(' ')\n",
    "print('The driver has Scrolled')"
   ]
  },
  {
   "cell_type": "code",
   "execution_count": 43,
   "id": "1f907e4f",
   "metadata": {},
   "outputs": [],
   "source": [
    "driver.quit()"
   ]
  },
  {
   "cell_type": "markdown",
   "id": "6be85a71",
   "metadata": {},
   "source": [
    "# 5. Closing a pop up window "
   ]
  },
  {
   "cell_type": "code",
   "execution_count": 44,
   "id": "05f45ff1",
   "metadata": {},
   "outputs": [
    {
     "name": "stdout",
     "output_type": "stream",
     "text": [
      "Pop_up Occured\n"
     ]
    }
   ],
   "source": [
    "driver = webdriver.Chrome()\n",
    "chrome_options.add_argument(\"--window-size=1900,1000\") #pick a size and stick with it, it can change how code intreacts with the website.\n",
    "driver = webdriver.Chrome(options = chrome_options)\n",
    "#____________________________________________________________________________________________________#\n",
    "twitter_url = \"https://twitter.com/search?q=%22Glory%20to%20Ukraine%22&src=trend_click&vertical=trends\"\n",
    "driver.get(twitter_url)\n",
    "\n",
    "driver.implicitly_wait(20)\n",
    "\n",
    "if EC.presence_of_element_located(driver.find_element(By.XPATH, '//*[@id=\"modal-header\"]/span/span')): #if the \"Sogn into twitter\" text pops on the screen, then close the pop up\n",
    "    print(\"Pop_up Occured\")\n",
    "    time.sleep(2) \n",
    "    driver.find_element(By.XPATH, '//*[@id=\"layers\"]/div/div/div/div/div/div/div[2]/div[2]/div/div/div[2]/div[1]/div/div/div/div/div[1]/div').click()\n",
    "    print('Pop up closed')\n",
    "else: \n",
    "    print(\"No pop_up\")"
   ]
  },
  {
   "cell_type": "code",
   "execution_count": 48,
   "id": "8f2f0c23",
   "metadata": {},
   "outputs": [],
   "source": [
    "driver.quit()"
   ]
  },
  {
   "cell_type": "markdown",
   "id": "4c0af4d0",
   "metadata": {},
   "source": [
    "# Getting URL's from a webpage "
   ]
  },
  {
   "cell_type": "code",
   "execution_count": 47,
   "id": "f90d9465",
   "metadata": {},
   "outputs": [
    {
     "name": "stdout",
     "output_type": "stream",
     "text": [
      "['https://www.youtube.com/watch?v=e7MZqCsQJKw', 'https://www.youtube.com/watch?v=Zm4RZNfX-rs', 'https://www.youtube.com/watch?v=lVORrCLhEkw', 'https://www.youtube.com/watch?v=z7Nd6uwzDII', 'https://www.youtube.com/watch?v=4yvJ6pExT0o', 'https://www.youtube.com/watch?v=G8nDHmP9N-A', 'https://www.youtube.com/watch?v=RYynOu8D6-g', 'https://www.youtube.com/watch?v=3ptagZOU_Wg', 'https://www.youtube.com/watch?v=ciAbrSaOBTQ', 'https://www.youtube.com/watch?v=-Wf2CYHNhVM', 'https://www.youtube.com/watch?v=pkQ50oXPQ4A', 'https://www.youtube.com/watch?v=OH5fJk1mSgc', 'https://www.youtube.com/watch?v=QkbcXcH5wa4', 'https://www.youtube.com/watch?v=kARqFJAPPLE', 'https://www.youtube.com/watch?v=1o2ctiHHkfY', 'https://www.youtube.com/watch?v=YbIaYqiGU8o', 'https://www.youtube.com/watch?v=gSZiXRRs65c', 'https://www.youtube.com/watch?v=85CCzzJPCu4', 'https://www.youtube.com/watch?v=TLtUk9Fcd1g', 'https://www.youtube.com/watch?v=1_5lYOUbh0g', 'https://www.youtube.com/watch?v=A79U_-qnMmY', 'https://www.youtube.com/watch?v=dLuVoGkBmMI', 'https://www.youtube.com/watch?v=0IjUkk0RXQc', 'https://www.youtube.com/watch?v=V1hN1ekwTP8', 'https://www.youtube.com/watch?v=hktIRdd90g4', 'https://www.youtube.com/watch?v=9Tc33xCppQo', 'https://www.youtube.com/watch?v=-fBymc5rhOI', 'https://www.youtube.com/watch?v=auAKqLwdpVA']\n",
      " \n",
      "ALl video links visable in the Json has been collected\n"
     ]
    }
   ],
   "source": [
    "driver = webdriver.Chrome()\n",
    "chrome_options.add_argument(\"--window-size=1900,1000\") #pick a size and stick with it, it can change how code intreacts with the website.\n",
    "driver = webdriver.Chrome(options = chrome_options)\n",
    "#____________________________________________________________________________________________________#\n",
    "yt_url = \"https://www.youtube.com/@bonappetit/videos\"\n",
    "driver.get(yt_url)\n",
    "\n",
    "driver.implicitly_wait(20)\n",
    "\n",
    "vids_urls = []\n",
    "video_urls = driver.find_elements(By.XPATH, './/*[@id=\"video-title-link\"]')\n",
    "\n",
    "for url in video_urls:\n",
    "    href = url.get_attribute('href')\n",
    "    vids_urls.append(href)\n",
    "\n",
    "print(vids_urls)\n",
    "print(' ')\n",
    "print('ALl video links visable in the Json has been collected')"
   ]
  },
  {
   "cell_type": "code",
   "execution_count": 159,
   "id": "d1cce00b",
   "metadata": {},
   "outputs": [],
   "source": [
    "driver.quit()"
   ]
  },
  {
   "cell_type": "markdown",
   "id": "df59979f",
   "metadata": {},
   "source": [
    "# When building a websracper, these tools can help your code adapt to a website and the data you need to gather. \n",
    "\n",
    "### Lets do a more complicated example: First lets talk it out \n",
    "***\n",
    "I want to gather data from one youtube channel, here are some ideas of what I can gather \n",
    "1. The channel name \n",
    "2. The number of subs\n",
    "3. About tab: Date joined\n",
    "4. home page video click\n",
    "5. Video views"
   ]
  },
  {
   "cell_type": "code",
   "execution_count": 57,
   "id": "c8c6dcf8",
   "metadata": {},
   "outputs": [
    {
     "name": "stdout",
     "output_type": "stream",
     "text": [
      "The Channel Name is:  Bon Appétit\n",
      "The Channel has 6.5M subscribers number\n",
      "This channel is loacted in the  United States\n",
      "The home video's data:  387,722 views\n",
      "5 days ago\n"
     ]
    }
   ],
   "source": [
    "driver = webdriver.Chrome()\n",
    "chrome_options.add_argument(\"--window-size=1900,1000\") #pick a size and stick with it, it can change how code intreacts with the website.\n",
    "driver = webdriver.Chrome(options = chrome_options)\n",
    "#__________________________________________________________________________________________________#\n",
    "youtube_url = \"https://www.youtube.com/@bonappetit/featured\"\n",
    "driver.get(youtube_url)\n",
    "\n",
    "driver.implicitly_wait(20)\n",
    "title = driver.find_element(By.XPATH, './/*[@id=\"text-container\"]').text #XPATH Version \n",
    "print('The Channel Name is: ', title)\n",
    "\n",
    "subs = driver.find_element(By.XPATH, './/*[@id=\"subscriber-count\"]').text\n",
    "for sub in subs: #getting the subscriber count\n",
    "    channel_subs = driver.find_element(By.XPATH, './/*[@id=\"subscriber-count\"]').text\n",
    "print('The Channel has', channel_subs, 'number')\n",
    "\n",
    "\n",
    "driver.find_element(By.XPATH, '//*[@id=\"more-icon\"]/yt-icon-shape/icon-shape/div').click() #Open the about pop-up\n",
    "driver.implicitly_wait(20)\n",
    "driver.execute_script(\"window.scrollBy(0, 1000)\")\n",
    "location = driver.find_element(By.XPATH, '//*[@id=\"additional-info-container\"]/table/tbody/tr[8]/td[2]').text #Gather the location value from the about tab \n",
    "print('This channel is loacted in the ', location)\n",
    "\n",
    "driver.find_element(By.XPATH, '//*[@id=\"visibility-button\"]/ytd-button-renderer/yt-button-shape/button/yt-touch-feedback-shape/div/div[2]').click() #Close the about pop up \n",
    "\n",
    "driver.find_element(By.XPATH, '//*[@id=\"tabsContent\"]/yt-tab-group-shape/div[1]/yt-tab-shape[1]').click()\n",
    "driver.implicitly_wait(20)\n",
    "vid_views = driver.find_element(By.XPATH, './/*[contains(concat( \" \", @class, \" \" ), concat( \" \", \"ytd-video-meta-block\", \" \" ))]')\n",
    "\n",
    "print(\"The home video views aand how long ago it was posted: \", vid_views.text)"
   ]
  },
  {
   "cell_type": "code",
   "execution_count": 58,
   "id": "e249271b",
   "metadata": {},
   "outputs": [],
   "source": [
    "driver.quit()    "
   ]
  },
  {
   "cell_type": "markdown",
   "id": "492403c2",
   "metadata": {},
   "source": [
    "# Your turn\n",
    "#### Find a youtube channel and use two of the examples above to gather 2 diffrent types of data \n",
    "* Do not use the same youtube channels I did or use the same combined example above, Get creative! "
   ]
  },
  {
   "cell_type": "code",
   "execution_count": null,
   "id": "376c5305",
   "metadata": {},
   "outputs": [],
   "source": []
  }
 ],
 "metadata": {
  "kernelspec": {
   "display_name": "Python 3 (ipykernel)",
   "language": "python",
   "name": "python3"
  },
  "language_info": {
   "codemirror_mode": {
    "name": "ipython",
    "version": 3
   },
   "file_extension": ".py",
   "mimetype": "text/x-python",
   "name": "python",
   "nbconvert_exporter": "python",
   "pygments_lexer": "ipython3",
   "version": "3.9.13"
  }
 },
 "nbformat": 4,
 "nbformat_minor": 5
}
