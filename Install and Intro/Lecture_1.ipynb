{
 "cells": [
  {
   "cell_type": "markdown",
   "metadata": {
    "slideshow": {
     "slide_type": "slide"
    }
   },
   "source": [
    "# Course: Intro to Python & R for Data Analysis\n",
    "## Lecture: Introduction\n",
    "\n",
    "Professor: Mary Kaltenberg\n",
    "\n",
    "\n",
    "contact: mkaltenberg@pace.edu\n",
    "\n",
    "About me: www.mkaltenberg.com\n"
   ]
  },
  {
   "cell_type": "markdown",
   "metadata": {
    "slideshow": {
     "slide_type": "slide"
    }
   },
   "source": [
    "## About you\n",
    "\n",
    "Quick roundtable:\n",
    "- Your name and pronoun preferences\n",
    "- Why take this class?\n",
    "- Any coding background?\n",
    "- What do you want to get out of this course?\n"
   ]
  },
  {
   "cell_type": "markdown",
   "metadata": {
    "slideshow": {
     "slide_type": "subslide"
    }
   },
   "source": [
    "## About the Course\n",
    "\n",
    "This course is very demanding. There will be work every week to build on previous skills. To get the most out of this class and have a project that you can share with employers, you will need to put a lot of effort.\n",
    "\n",
    "- Learn basics of coding in Python and R\n",
    "- Practical application of statistics and econometrics using Python and R\n",
    "    - This course complements stats and metrics and is not a substitute. If you haven't taken these courses in the past, you may get lost. \n",
    "- How to collect data online, clean it and use it.\n",
    "- How to visualize data (and tell a story with graphs).\n",
    "\n",
    "WARNING: I am not a computer scientist, which means the way I teach the course is not geared to understanding all of the nuances in python language. Rather, I will teach you pratical applications of python and R for economics - my goal is to teach you what I wish I learned in class. \n",
    "\n",
    "My goal as a professor and in this course is to ensure that we have a community of engaged learners. That includes me!\n"
   ]
  },
  {
   "cell_type": "markdown",
   "metadata": {
    "slideshow": {
     "slide_type": "subslide"
    }
   },
   "source": [
    "### Grading\n",
    "\n",
    "- 3 Assignments (20%)\n",
    "- Project Proposal (5%)\n",
    "- Midterm (25%)\n",
    "- Weekly Tasks (15%)\n",
    "- 1 Presentation (10%)\n",
    "- Final Project (20%)\n",
    "- Participation (5%, includes helping other students & attendance)\n",
    "\n",
    "\n",
    "Late assignments will not be accepted (No exceptions), but given that life circumstances may come up, I will drop the lowest grade of your problem sets from the average of your problem set portion of your grade (**Except Assn. 2, this must be completed on time)**. Use this policy wisely.\n",
    "\n",
    "You **MUST** document your code. An automatic **15 point deduction** will be taken for any work that is not documented. \n",
    "\n",
    "If you **CANNOT** explain your code when I ask you, this will result in an automatic **ZERO (0)** on the entire assignment. You must be able to understand what you're code is doing.\n",
    "\n",
    "This is a project based course. The goal is that you will accumulate skills so that you learn how to code so that you can: \n",
    "- scrape data from the web\n",
    "- clean that data \n",
    "- analyze that data\n",
    "\n",
    "You'll do all of those things and report your final project to the class in a final presentation. \n",
    "\n",
    "<table><tr><td>The best way to learn how to code is to code, which means you will be:<img src = 'https://media.giphy.com/media/LmNwrBhejkK9EFP504/giphy.gif'></td><td>  But, at the end of the course I hope you will be like:<img src = 'https://media.giphy.com/media/paMVbhw7bnZLi/giphy.gif' width= \"400\"></td></tr></table>\n"
   ]
  },
  {
   "cell_type": "markdown",
   "metadata": {
    "slideshow": {
     "slide_type": "subslide"
    }
   },
   "source": [
    "### Why Python AND R?\n",
    "\n",
    "- These 2 languages are the languages of data science, and quickly becoming the language of applied economics.\n",
    "- These 2 languages are complementary; IMO if you know python, you will quickly know R. \n",
    "- I use Python and R for different things, so there is some path dependency.\n",
    "    - Python for data wrangling, webscraping and visualization (and Machine Learning if you're into that)\n",
    "    - R for data analysis and visualization \n",
    "\n",
    "Note: Other useful languages to know is Julia (for Big Data) and SQL (for database mngmt)\n"
   ]
  },
  {
   "cell_type": "markdown",
   "metadata": {
    "slideshow": {
     "slide_type": "fragment"
    }
   },
   "source": [
    "Also, there's this...\n",
    "<img src = 'language_use.svg' width= \"700\">\n",
    "Graph by [Grant McDermott](https://grantmcdermott.com/)"
   ]
  },
  {
   "cell_type": "markdown",
   "metadata": {
    "slideshow": {
     "slide_type": "fragment"
    }
   },
   "source": [
    "**Python** is a versatile language and does much more than analysis. You can automate tasks, build software programs, apply artifical intelligence and machine learning techniques, program - and a ton of other things. It's a great code to learn because it's in high demand in the labor market for a broad range of industries.\n",
    "\n",
    "**R** is a bit more limited, but is excellent for data analysis for a variety of fields. A broad range of industries use it, as well. Everything I teach today can be done in R, as well. Python's weakness at the moment is regressions, while R has a breadth of packages - and often the latest econometrics technique is already up on R.\n",
    "\n",
    "The first half of the class will focus on basic coding principles in Python - we'll move into data wrangling, web scraping and visualization. The latter half of the class will be in R and focus on visualization and regression analysis. "
   ]
  },
  {
   "cell_type": "markdown",
   "metadata": {
    "slideshow": {
     "slide_type": "slide"
    }
   },
   "source": [
    "## Objectives for Lecture 1\n",
    "What you should have *attempted* to do before today's class is to:\n",
    "- READ the syllabus\n",
    "- Download anaconda (where python, jupyter notebook and R is installed)\n",
    "- If you have windows, be sure to download a shell (Ubuntu is typically works better, but it doesn't matter). Here is a \n",
    "[guide for Windows 10 users.](https://itsfoss.com/install-bash-on-windows/)\n",
    "- Created a github account\n",
    "\n",
    "What we will do today together:\n",
    "- Define what are your objectives for the course\n",
    "- Start a new Jupyter notebook\n",
    "- Learn about cells and markdown\n",
    "- Learn how to read documentation (and find other helpful sources to troubleshoot)\n",
    "\n",
    "I will give you time at the end of class to trouble shoot software installation on your own or you can do the assignment to get to know github"
   ]
  },
  {
   "cell_type": "markdown",
   "metadata": {
    "slideshow": {
     "slide_type": "slide"
    }
   },
   "source": [
    "# Installation\n",
    "\n",
    "### \"shell\" or \"terminal\" Installation\n",
    "\n",
    "You'll need a \"shell\" to install packages and it's an easy way to open jupyter notebook. **ALSO** it's necessary if you work with servers.\n",
    "\n",
    "- **Mac and Linux** users have terminal already installed.\n",
    "- **Windows** users must download and install an additional program to get a shell or powershell. Here is a \n",
    "[guide for Windows 10 users.](https://itsfoss.com/install-bash-on-windows/) Installation depends on which Windows OS you currently have - so, you may have to google around for appropriate installation guides.\n",
    "\n",
    "Other OS specific installations to do now as it will save you time in the future:\n",
    "- **Windows:** Install [Rtools](https://cran.r-project.org/bin/windows/Rtools/). \n",
    "\n"
   ]
  },
  {
   "cell_type": "markdown",
   "metadata": {
    "slideshow": {
     "slide_type": "fragment"
    }
   },
   "source": [
    "### Checking your Python Version\n",
    "We'll need to check a few things and update python if necessary:\n",
    "\n",
    "First, check the python version you have currently installed.  Open up your terminal/shell and type:\n",
    "\n",
    "`python --version`\n",
    "\n",
    "For windows it will be:\n",
    "`python3 --version`\n",
    "\n",
    "It'll look like this:\n",
    "<img src = 'python_version.png' width= \"350\">\n",
    "\n",
    "You'll want to make sure your version is *at least* version 3 (Python 3.X.X)\n",
    "\n",
    "This should be the case, if you installed the correct version of anaconda. If not, you'll need to install python version 3 - it might be easier to uninstall anaconda and reinstall the correct version of Python 3.7: [here](https://www.anaconda.com/products/individual)\n",
    "\n",
    "Also check which python you are using in your terminal by typing (for Mac):\n",
    "\n",
    "`which python`\n",
    "\n",
    "To make sure you are using anaconda python"
   ]
  },
  {
   "cell_type": "markdown",
   "metadata": {
    "slideshow": {
     "slide_type": "fragment"
    }
   },
   "source": [
    "### Pip and Packages\n",
    "\n",
    "To install **packages** for python, you'll use **pip**\n",
    "\n",
    "Packages are basically pre-programmed directories of code - both python and R uses packages.\n",
    "\n",
    "For now, you can imagine that packages are kind of like an application on a phone. Sometimes you'll have to update your application for them to work - and they are often updated to meet other dependent package updates.\n",
    "\n",
    "Pip is like Google Play or the App Store on your phone. Pip manages packages where you can install, update, and uninstall packages. \n",
    "\n",
    "There is a huge community beyond the developers of Python that contribute packages - and we have a lot to thank them for! It's part of the open source community.\n",
    "\n",
    "Let's make sure pip is up to date by inputting this code in the terminal:\n",
    "\n",
    "`python -m pip install --upgrade pip`\n",
    "\n",
    "For **Windows**:\n",
    "`python3 -m pip install --upgrade pip`\n",
    "\n",
    "Also check which python you are using in your terminal by typing:\n",
    "\n",
    "`which pip`\n",
    "\n",
    "\n",
    "#### CRAN and Packages\n",
    "R also has a package manager called CRAN. We'll talk more about it when get to the R section of the course. \n",
    "\n",
    "If you haven't already, be sure to download R [here](https://cran.r-project.org/)\n"
   ]
  },
  {
   "cell_type": "markdown",
   "metadata": {
    "slideshow": {
     "slide_type": "fragment"
    }
   },
   "source": [
    "I'll be honest with you, package management of python can get complicated. It's rare to have this issue, but I have spent a couple hours to resolve an issue in the past. \n",
    "\n",
    "So, it's important that you know how to install and uninstall packages if an error occurs. Usually, an install and reinstall will solve the problem.\n",
    "\n",
    "<img src =\"https://imgs.xkcd.com/comics/python_environment_2x.png\" width = 350>"
   ]
  },
  {
   "cell_type": "markdown",
   "metadata": {
    "slideshow": {
     "slide_type": "slide"
    }
   },
   "source": [
    "\n",
    "### OPTIONAL: Installing R environment for Jupyter Notebooks\n",
    "\n",
    "What's nice about jupyter notebook is that you can run notebooks in different languages. Since this class will teach you both Python and R, we will use relevant \"notebooks\" of code when using a particular language. I'll come back to this later today when we talk about jupyter notebooks.  For now, let's just install everything we need so we don't have to deal with it later.\n",
    "\n",
    "We'll want to get R running in Jupyter notebook.\n",
    "\n",
    "The following code will be run in your terminal/shell.\n",
    "\n",
    "First, let's update our notebooks to make sure they are in order:\n",
    "`conda update jupyter notebook`\n",
    "\n",
    "Conda is Anaconda, which you downloaded earlier.\n",
    "\n",
    "Install IRKernel package. It's a package that will allow you to connect R to jupyter notebook:\n",
    "\n",
    "`conda install -c r r-irkernel`\n",
    "\n",
    "You can also try:\n",
    "\n",
    "`conda install -c r r-essentials`\n",
    "\n",
    "When asked:\n",
    "`Proceed ([y]/n)?`\n",
    "\n",
    "Respond with\n",
    "`y`"
   ]
  },
  {
   "cell_type": "markdown",
   "metadata": {},
   "source": [
    "In some cases for **Windows** an error appears that conda is not a recognized command. \n",
    "\n",
    "First try resolving this by setting a path. Instruction and solution to this issue is [here](https://stackoverflow.com/questions/44597662/conda-command-is-not-recognized-on-windows-10) and then continue with the above installation via conda (it's easier).\n",
    "\n",
    "When this error occurs in **Mac** likely it's because you need to set a path. [This website](https://stackoverflow.com/questions/49821930/conda-command-not-found-even-though-path-is-exported) has helped me resolve this issue in the past.\n",
    "\n",
    "If you have windows and get the error ``EnvironmentNotWritableError: The current user does not have write permissions to the target environment.environment location: C:\\ProgramData\\Anaconda3`` You can resolve this by making sure powershell or ubuntu runs as administrator \n",
    "\n",
    "If this occurs, try resolving this issue by first ensuring R is properly installed by writing in the shell:\n",
    "\n",
    "`R`\n",
    "\n",
    "If it asks to install r essentials and requests a command for that, type that command first and then try opening R by putting R in the shell.\n",
    "\n",
    "When you are operating in R in the shell put this command:\n",
    "\n",
    "`install.packages(c('repr', 'IRdisplay', 'evaluate', 'crayon', 'pbdZMQ', 'devtools', 'uuid', 'digest'))`\n",
    "\n",
    "This command will prompt you to type in a number to select a CRAN mirror to install the necessary packages. Enter a number and the installation will continue.\n",
    "\n",
    "`devtools::install_github('IRkernel/IRkernel')`\n",
    "\n",
    "Then do the following command:\n",
    "`IRkernel::installspec(user = FALSE)`\n",
    "\n",
    "[This](https://www.datacamp.com/community/blog/jupyter-notebook-r) website has step by step instructions (mimics from above) with additional advice - so check it out if you still have an issue.\n",
    "\n",
    "\n"
   ]
  },
  {
   "cell_type": "markdown",
   "metadata": {
    "slideshow": {
     "slide_type": "fragment"
    }
   },
   "source": [
    "### Jupyter Notebooks\n",
    "\n",
    "Jupyter notebooks are a great way to organize and document code. \n",
    "\n",
    "To Launch a Jupyter Notebook:\n",
    "- **Mac**: go to your terminal and type: `jupyter notebook`\n",
    "- **Windows**: go to your control prompt (search for cmd) and type: `jupyter notebook`\n",
    "\n",
    "This will launch a localhost, where you should see a directory of your files/folders.\n",
    "\n",
    "Directories are the backbone of how your computer organizes files. You'll need to get comfortable with this structure partly because it will help you organize your own files neatly for data projects. \n",
    "\n",
    "This is what happens when you launch a notebook:\n",
    "\n",
    "<img src = \"open_jupyter.gif\">"
   ]
  },
  {
   "cell_type": "markdown",
   "metadata": {
    "slideshow": {
     "slide_type": "fragment"
    }
   },
   "source": [
    "- Jupyter notebook runs locally from whatever is your preferred web browser. I personally use Mozilla Firefox, but jupyter notebook is compatabile with any web browser. \n",
    "\n",
    "Note: This is particularly useful if you work with servers - you can locally work on your notebook environment, but run your code on a sever. \n",
    "\n",
    "- After jupyter notebook launches, it takes you to your current directory. If you launch a new notbeook, it will be stored in that folder, but you can navigate and create folders as you wish from the director tree. \n",
    "\n",
    "- On the top right you click \"New\" and that should give you options to click python3 or R. Notice that if you installed the R environment properly, the R option should show up. \n",
    "\n",
    "- If you click on the title, you can change the name of the workbook.\n",
    "\n",
    "Note on directory file structure: Whenever you have a new data project, I suggest that you create a new folder where you can store all of your files.  We'll talk more about this when we get to the data section. \n"
   ]
  },
  {
   "cell_type": "markdown",
   "metadata": {
    "slideshow": {
     "slide_type": "fragment"
    }
   },
   "source": [
    "If you are unable to install these programs for a variety of reasons, you can use jupyter-like notebooks from Colab (run by google).\n",
    "\n",
    "- They provide free computing power, too!\n",
    "- They can be stored on your google drive and shared with others. \n",
    "\n",
    "- Go [here to start a new project for python](http://colab.research.google.com/#create=true)\n",
    "- Go [here to start a new project for R](https://colab.research.google.com/drive/1BYnnbqeyZAlYnxR9IHC8tpW07EpDeyKR)\n",
    "- Go [here is another option to use install-free R through Kaggle Rstan](https://www.kaggle.com/thimac/rstan?scriptVersionId=20867095)\n",
    "\n",
    "However, I won't be able to help troubleshoot - I don't know all of their limitaitons, but it is a free and install-free way to use notebooks."
   ]
  },
  {
   "cell_type": "markdown",
   "metadata": {
    "slideshow": {
     "slide_type": "slide"
    }
   },
   "source": [
    "# Using Notebooks\n",
    "\n",
    "**cells** is where you put input (code) and it will print out results below the cell (example below). They are container for code or text.\n",
    "\n",
    "You can change the language a **cell** uses - which is super useful to code and document at the same time.\n",
    "\n",
    "\"Markdown\" makes writing on the web easy - it's an easy to format language that can embed text, html, latex easily. \n",
    "\n",
    "\"Code\" is the code of which your environment is set up. When you opened a new notebook and could click Python3, then the code of choice is Python3. \n",
    "\n",
    "Here is how you can change cell environments. Each cell can be either markdown or code (never both).\n",
    "\n",
    "<img src = \"notebook_options.gif\">\n"
   ]
  },
  {
   "cell_type": "markdown",
   "metadata": {
    "slideshow": {
     "slide_type": "fragment"
    }
   },
   "source": [
    "**kernels** are the \"computational engine\" which executes code blocks of the notebook. Sometimes when there is an error or super long run-time, you may need to \"restart the kernel\"\n",
    "\n",
    "Here's how you can do that:\n",
    "<img src=\"restart_kernel.gif\">"
   ]
  },
  {
   "cell_type": "markdown",
   "metadata": {
    "slideshow": {
     "slide_type": "fragment"
    }
   },
   "source": [
    "Here is a quick cheat sheet for Markdown to make your documentation easier:\n",
    "More extensive stuff can be found [here](https://www.markdownguide.org/cheat-sheet/)\n",
    "\n",
    "## Headers \n",
    "\n",
    "# HEADER\n",
    "## Header 2\n",
    "### Header 3\n",
    "#### Header 4\n",
    "##### Header 5\n",
    "###### Header 6\n",
    "Which is just:\n",
    "\n",
    "`# HEADER`\n",
    "\n",
    "`## Header 2`\n",
    "\n",
    "`### Header 3`\n",
    "\n",
    "`#### Header 4`\n",
    "\n",
    "`##### Header 5`\n",
    "\n",
    "`###### Header 6`\n",
    "\n",
    "etc....\n",
    "\n",
    "## Lists are easy:\n",
    "- item one\n",
    "- item two\n",
    "\n",
    "`- item one`\n",
    "\n",
    "`- item two `\n",
    "1. item\n",
    "2. item \n",
    "\n",
    "\n",
    "`1. item`\n",
    "\n",
    "`2. item`\n",
    "\n",
    "## Embed a photo or gif:\n",
    "\n",
    "html:\n",
    "`<img src = \"https://media.giphy.com/media/jrutBd1N7ZhsINAPzs/giphy.gif\">`\n",
    "<img src = \"https://media.giphy.com/media/jrutBd1N7ZhsINAPzs/giphy.gif\">\n",
    "markdown:\n",
    "`![alt text](https://media.giphy.com/media/jrutBd1N7ZhsINAPzs/giphy.gif)`\n",
    "![alt text](https://media.giphy.com/media/jrutBd1N7ZhsINAPzs/giphy.gif)\n",
    "Both Work!\n",
    "\n",
    "## links\n",
    "markdown:\n",
    "`[here](https://www.markdownguide.org/cheat-sheet/)`\n",
    "\n",
    "[here](https://www.markdownguide.org/cheat-sheet/)\n",
    "\n",
    "latex:\n",
    "`$\\href{https://www.markdownguide.org/cheat-sheet/)}{here}$`\n",
    "\n",
    "$\\href{https://www.markdownguide.org/cheat-sheet/)}{here}$\n",
    "\n",
    "html:\n",
    "`<a href=\"https://www.markdownguide.org/cheat-sheet/\">here</a>`\n",
    "\n",
    "<a href=\"https://www.markdownguide.org/cheat-sheet/\">here</a>\n",
    "\n",
    "all works!\n",
    "\n",
    "Side note: Markdown was created in part by [Aaron Swartz](https://en.wikipedia.org/wiki/Aaron_Swartz) - who was a very important activist for open source."
   ]
  },
  {
   "cell_type": "markdown",
   "metadata": {
    "slideshow": {
     "slide_type": "slide"
    }
   },
   "source": [
    "# How to read Documentation\n",
    "\n",
    "The great thing about open source is that everything is WELL Documented. \n",
    "\n",
    "Which is a nice reminder: **DOCUMENT EVERYTHING YOU DO**\n",
    "\n",
    "A few reasons: \n",
    "- helps you remember where you left off\n",
    "- helps other people know how you did you work \n",
    "- helps replicate your work for yourself and everyone else\n",
    "\n",
    "Jupyter notebook has a built in feature that you can call the help feature of any code.\n",
    "All you have to do is add a question mark at the end of the command.\n",
    "\n",
    "`print?`\n",
    "\n",
    "The documentation will pop up at the bottom. This is particularly useful when you forget key arguments that are needed for the command.\n",
    "\n",
    "<img src=\"help function.gif\">"
   ]
  },
  {
   "cell_type": "code",
   "execution_count": 4,
   "metadata": {},
   "outputs": [],
   "source": [
    "# Try it here, a pop up window should appear at the bottom of your screen.\n",
    "print?"
   ]
  },
  {
   "cell_type": "markdown",
   "metadata": {
    "slideshow": {
     "slide_type": "fragment"
    }
   },
   "source": [
    "Python also has detailed documentation on their [website](https://wiki.python.org/). In general, they have great resources for beginners [here](https://wiki.python.org/moin/BeginnersGuide).\n",
    "\n",
    "Each package also has their own documentation.\n",
    "\n",
    "Let's go take a look at an example on the print function [here](https://docs.python.org/3/whatsnew/3.0.html#print-is-a-function)\n",
    "\n",
    "<img src= \"print_function.png\" width =\"500\">\n",
    "\n",
    "The documentaiton includes:\n",
    "- details of changes that were made between versions\n",
    "- what the function does\n",
    "- examples of implementation.\n",
    "\n"
   ]
  },
  {
   "cell_type": "markdown",
   "metadata": {
    "slideshow": {
     "slide_type": "fragment"
    }
   },
   "source": [
    "Let's take a look at the package **numpy** and their documentation for calculating the standard deviation.\n",
    "[Click here](https://numpy.org/doc/stable/reference/generated/numpy.std.html)\n",
    "\n",
    "When you see codeblocks, anything with \">>>\" are lines that indicate that they were inputed. Lines that do not include that are outputs. \n",
    "<img src=\"codeblock.png\">\n"
   ]
  },
  {
   "cell_type": "markdown",
   "metadata": {
    "slideshow": {
     "slide_type": "fragment"
    }
   },
   "source": [
    "Hashtags \"comment out\" text. When you run a line of code you can block out text that you may want to include as a note. \n",
    "\n",
    "I often use #for documentation and type out a sentence about what I am doing in the cell block to remind myself.\n",
    "\n",
    "Let's see the example of the code in the next cell:\n",
    "\n",
    "`print('hello, world!') #This is how you print strings`"
   ]
  },
  {
   "cell_type": "code",
   "execution_count": 6,
   "metadata": {
    "slideshow": {
     "slide_type": "fragment"
    }
   },
   "outputs": [
    {
     "name": "stdout",
     "output_type": "stream",
     "text": [
      "hello, world!\n"
     ]
    }
   ],
   "source": [
    "print('hello, world!') #This is how you print strings\n",
    "# you can \"comment out\" entire lines with keystrokes: command +forward slash for mac (shift + forward slash for windows)"
   ]
  },
  {
   "cell_type": "code",
   "execution_count": 7,
   "metadata": {},
   "outputs": [
    {
     "name": "stdout",
     "output_type": "stream",
     "text": [
      "hello, world!\n"
     ]
    }
   ],
   "source": [
    "print('hello, world!') #here is comments"
   ]
  },
  {
   "cell_type": "markdown",
   "metadata": {
    "slideshow": {
     "slide_type": "fragment"
    }
   },
   "source": [
    "You may not know how to execute something that you want to do or get a puzzling error. Most likely, someone out there had the same issue or error. A great resource to find help on how to resolve a problem that you might have is to search on [stackoverflow.com](stackoverflow.com)\n",
    "\n",
    "You'll want to know how to read code blocks on this site (and similar ones).\n",
    "\n"
   ]
  },
  {
   "cell_type": "markdown",
   "metadata": {
    "slideshow": {
     "slide_type": "fragment"
    }
   },
   "source": [
    "A *BIG* part of coding is practicing. You should sign up for [datacamp.com](datacamp.com) It's free, but not all of the content is free. However, the content that will help you jump start coding is free.\n",
    "\n",
    "There are videos and most importantly, coding examples and practices that you can work on - I *HIGHLY* recommend doing the practices "
   ]
  },
  {
   "cell_type": "markdown",
   "metadata": {},
   "source": [
    "# Jupyter Notebook Commands\n",
    "\n",
    "[Here](https://jupyter-tutorial.readthedocs.io/en/stable/workspace/jupyter/notebook/shortcuts.html) is a link to detailed command options \n",
    "\n",
    "Below are commonly used shortcuts\n",
    "\n",
    "## Commands for Mac\n",
    "![Mac Codes](mac-python-cheat.png)\n",
    "\n",
    "## Commands for Windows\n",
    "\n",
    "![Window Codes](windows-python-cheat.png)"
   ]
  },
  {
   "cell_type": "markdown",
   "metadata": {
    "slideshow": {
     "slide_type": "slide"
    }
   },
   "source": [
    "# Github\n",
    "\n",
    "You will be submitting everything through github classrooms. It'll help you get familiar with git and the github community, which will be useful in any data oriented job.\n",
    "\n",
    "GitHub allows you:\n",
    "To keep track of tasks:\n",
    "`issues - github`\n",
    "- can add issues and write new tasks\n",
    "- can assign people an issue (like a task)\n",
    "- in the git commit message you can resolve or respond to particular issues if you add #N  (the number of the issue) in the message\n",
    "    - can add msg afterwards by copy and pasting the commit into the comment within issues\n",
    "\n",
    "To work in projects:\n",
    "`projects - github`\n",
    "- organize with other repos\n",
    "\n",
    "To integrate code into larger environments:\n",
    "`actions - github`\n",
    " - you can put it in pip or related - integration (for alexa or python etc)\n",
    " \n",
    "Creat documentation for your projects:\n",
    "`wiki - github`\n",
    "- check out how to do this [here](https://docs.github.com/en/communities/documenting-your-project-with-wikis)\n",
    "\n",
    "\n"
   ]
  },
  {
   "cell_type": "markdown",
   "metadata": {},
   "source": [
    "There are a bunch of ways you can work with github:\n",
    "- terminal\n",
    "- github desktop\n",
    "- web browser\n",
    "\n",
    "Most people work with the terminal - in the long run, you'll thank yourself for learning it. In the short run, you may want to just get it done.\n",
    "\n",
    "[Here's a cheat sheet](https://towardsdatascience.com/a-git-cheatsheet-that-all-coders-need-bf8ad4d91576) on getting started with github\n",
    "\n",
    "And a [quick video](https://youtu.be/ODFw6ydqZpk) on uploading class assignments via github desktop.\n"
   ]
  },
  {
   "cell_type": "markdown",
   "metadata": {},
   "source": [
    "## Repos and Clones\n",
    "\n",
    "Repos or Repositories are folders that you can access freely and publicly. In order to get the repo, so need to \"clone\" it. Cloning it will create a copy of the current documents onto your local computer.\n",
    "\n",
    "Here are the steps to cloning:\n",
    "\n",
    "`git clone`\n",
    "\n",
    "1. open terminal\n",
    "2. get repo and dl and clone:\n",
    "    2a. copy and paste code link\n",
    "    2b. Type `git clone` and the link in the same line of code\n",
    "    \n",
    "    example: `git clone https://github.com/somethingabout/Data_Analysis_Python_R.git`\n",
    "    \n",
    "    \n",
    "3. May need a authentication code for private repos. (you do this once)\n",
    "\n",
    "`git config --global user.name “name here”`\n",
    "\n",
    "`git config --global user.email`\n",
    "\n",
    "Once a week, you should update the repo. I will add or edit the lecture notes, so to get any update you need to pull the new information into your locally stored folder. All you need to do is:\n",
    "\n",
    "`git pull`\n",
    "\n",
    "\n",
    "Tip:\n",
    "\n",
    ".gitignore\n",
    "can create a file with a list of files that won’t push files to GitHub\n",
    "add this file to the repo so everyone knows which files not to commit\n",
    "\n"
   ]
  },
  {
   "cell_type": "markdown",
   "metadata": {},
   "source": [
    "## Add, Commit and Push\n",
    "\n",
    "\n",
    "When you want to update your folder (assignment for example), you need to push and commit changes to submit homework. You can do this periodically or as often as you want\n",
    "\n",
    "Changes in code to git:\n",
    "\n",
    "1. `git add`\n",
    "        NOTE: (do NOT add API keys!) - allows you to check your code\n",
    "  1a. `git status` tells you what stage of the code it is in\n",
    "  1b. `git add .` Adds all changes to the repo\n",
    "2. `git commit m- ‘enter message’` it's always good to commit independent buckets of codem you must write a message when you commit\n",
    "3. `git push` pushes all of the changes onto GitHub repo - push as often as you can so we all know the changes made\n",
    "\n"
   ]
  },
  {
   "cell_type": "markdown",
   "metadata": {},
   "source": [
    "## Fork and Branch\n",
    "\n",
    "`git fork`\n",
    "\n",
    "- starting point for the next project (through interface)\n",
    "- brings it to your GitHub, it’s a brand new repo with the previous commits\n",
    "- mostly used for contributing to big open source projects\n",
    "\n",
    "- Can see the process as the author works through it\n",
    "- You can fork an assignment and then push your assignments and I can see how you changed it\n",
    "\n",
    "`git branch`\n",
    "\n",
    "- when working on a project for a long time \n",
    "- You can make a copy that is just for you and eventually merge the branch back when you're done with the work\n",
    "- allows you to keep work in progress independently separate until you're ready to share it"
   ]
  },
  {
   "cell_type": "markdown",
   "metadata": {
    "slideshow": {
     "slide_type": "slide"
    }
   },
   "source": [
    "# Let's Start Coding!\n"
   ]
  },
  {
   "cell_type": "code",
   "execution_count": null,
   "metadata": {},
   "outputs": [],
   "source": []
  }
 ],
 "metadata": {
  "celltoolbar": "Slideshow",
  "kernelspec": {
   "display_name": "Python 3",
   "language": "python",
   "name": "python3"
  },
  "language_info": {
   "codemirror_mode": {
    "name": "ipython",
    "version": 3
   },
   "file_extension": ".py",
   "mimetype": "text/x-python",
   "name": "python",
   "nbconvert_exporter": "python",
   "pygments_lexer": "ipython3",
   "version": "3.8.5"
  }
 },
 "nbformat": 4,
 "nbformat_minor": 2
}
