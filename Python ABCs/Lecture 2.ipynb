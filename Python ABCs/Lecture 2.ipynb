{
 "cells": [
  {
   "cell_type": "markdown",
   "metadata": {
    "slideshow": {
     "slide_type": "slide"
    }
   },
   "source": [
    "# Course: Intro to Python & R for Data Analysis\n",
    "## Lecture: Learning Your Python ABC's\n",
    "Professor: Mary Kaltenberg\n",
    "\n",
    "contact: mkaltenberg@pace.edu\n",
    "\n",
    "About me: www.mkaltenberg.com"
   ]
  },
  {
   "cell_type": "markdown",
   "metadata": {
    "slideshow": {
     "slide_type": "slide"
    }
   },
   "source": [
    "# Python as a Language\n",
    "\n",
    "**Coding is a language**\n",
    "\n",
    "Natural languages are far more complex, but coding is a language between you and the computer. You'll want to learn how to communicate to the computer to execute tasks.\n",
    "\n",
    "We'll start by learning words - their function and what they do. \n",
    "\n",
    "Then we will build sentences where we can combine different parts of a sentence to operationalize logic.\n",
    "\n",
    "This lecture aims to go over:\n",
    "- Verbs (Functions & Packages)\n",
    "- Nouns (Dictionaries, Strings, Lists, Objects)\n",
    "- Conjunctions (Conditionals and Recursion)\n",
    "\n",
    "These are the basic building blocks that will help you operationalize actions. It's kind of learning how to use words to effectively communicate.\n",
    "\n",
    "<img src =\"https://media.giphy.com/media/xT1XGzXhVgWRLN1Cco/giphy.gif\">\n"
   ]
  },
  {
   "cell_type": "markdown",
   "metadata": {
    "slideshow": {
     "slide_type": "slide"
    }
   },
   "source": [
    "# Verbs \n",
    "## Functions\n",
    "\n",
    "- Functions operationalize tasks\n",
    "- Functions require arguments to operationalize these tasks\n",
    "- Arguments are inputs, and inputs can vary in their requirements\n",
    "\n",
    "Functions always look like this:\n",
    "\n",
    "*function*(*arguments*)\n",
    "\n",
    "The function name is on the outside, and the parenthesis that follows indicate it's a function. You put required arguments inside the paranthesis - there can be many required inputs.\n",
    "\n",
    "\n",
    "To know what is exactly required as an argument and optional arguments, you can always use the `?` at the end of a function to find out the definition."
   ]
  },
  {
   "cell_type": "markdown",
   "metadata": {
    "slideshow": {
     "slide_type": "subslide"
    }
   },
   "source": [
    "print is the *function*, and I gave the *argument* a *string* called hello, world. It will *return* a value, in this case it will print text \"hello, world\"\n",
    "\n",
    "String is an input type - we'll get into that in moment\n",
    "\n",
    "I input the code in the cell, and after I run it, I get the output just below.\n",
    "<img src =\"print function.png\">"
   ]
  },
  {
   "cell_type": "code",
   "execution_count": null,
   "metadata": {},
   "outputs": [],
   "source": [
    "print(1+5+6+10)\n",
    "print(5*6^2)\n",
    "print('hi ECO590')"
   ]
  },
  {
   "cell_type": "code",
   "execution_count": null,
   "metadata": {},
   "outputs": [],
   "source": [
    "1+5+6+10\n",
    "5*6^2"
   ]
  },
  {
   "cell_type": "markdown",
   "metadata": {
    "slideshow": {
     "slide_type": "fragment"
    }
   },
   "source": [
    "Tip: \n",
    "\n",
    "`shift` + `return` on Mac to run the code in a cell\n",
    "\n",
    "`shift` + `enter` on Windows to run the code in a cell\n"
   ]
  },
  {
   "cell_type": "code",
   "execution_count": null,
   "metadata": {
    "slideshow": {
     "slide_type": "fragment"
    }
   },
   "outputs": [],
   "source": [
    "print('hello, world')"
   ]
  },
  {
   "cell_type": "markdown",
   "metadata": {
    "slideshow": {
     "slide_type": "fragment"
    }
   },
   "source": [
    "Let's make python do some math for us"
   ]
  },
  {
   "cell_type": "code",
   "execution_count": null,
   "metadata": {
    "slideshow": {
     "slide_type": "fragment"
    }
   },
   "outputs": [],
   "source": [
    "print(1+25*2)\n",
    "print(76*8366)\n",
    "print(5-8-2*54)"
   ]
  },
  {
   "cell_type": "code",
   "execution_count": null,
   "metadata": {},
   "outputs": [],
   "source": [
    "76*8366\n",
    "5-8-2*54"
   ]
  },
  {
   "cell_type": "markdown",
   "metadata": {
    "slideshow": {
     "slide_type": "fragment"
    }
   },
   "source": [
    "You can also create your own functions - this is called a definition.\n",
    "\n",
    "We won't go through working examples of definitions, yet - but, we'll get to it after we learn how to make sentences."
   ]
  },
  {
   "cell_type": "markdown",
   "metadata": {
    "slideshow": {
     "slide_type": "subslide"
    }
   },
   "source": [
    "# Complex Verbs\n",
    "## Packages\n",
    "\n",
    "\n",
    "Packages are bundles of functions. Some packages come standard with python, but others might require you to install them via pip or conda (Python's package manager). \n",
    "\n",
    "Think of pip as a library and packages as a book. You'll want to go into your library and pick up a reference book that has a bunch of definitions that you can look up.\n",
    "\n",
    "Knowing specific packages have become so important that you may be asked in an interview for a job, \"which packages do you use?\" This course will go into detail on numpy, pandas, matplotlib, and seaborn (if we have time). However, for certain tasks we may call other packages when needed.\n",
    "\n",
    "<img src = \"https://imgs.xkcd.com/comics/python.png\" width= 350>\n",
    "\n"
   ]
  },
  {
   "cell_type": "code",
   "execution_count": null,
   "metadata": {},
   "outputs": [],
   "source": [
    "#What an error looks like\n",
    "print('hello')\n",
    "print('world')\n",
    "1+89\n",
    "print('hi)\n",
    "    87+988"
   ]
  },
  {
   "cell_type": "markdown",
   "metadata": {
    "slideshow": {
     "slide_type": "fragment"
    }
   },
   "source": [
    "Let's start by installing a package called **numpy** (pronounced num-PIE).\n",
    "\n",
    "The NumPy library contains multidimensional array and matrix data structures. It operationalized linear algebra and is incredibly useful for numerical data - from engineers to data scientists. This is one of a few packages that we will use throughout this course.\n",
    "\n",
    "\n",
    "Go to your terminal/shell and input:\n",
    "\n",
    "`pip install numpy`\n",
    "\n",
    "Go back to your notebook and input into a cell:\n",
    "\n",
    "`import numpy as np`\n",
    "\n",
    "This line of code is saying \n",
    "\n",
    "*\"import the package numpy (which is stored in your library on your computer) and name it np\"*\n",
    "\n",
    "numpy is like a book name, but I call it by a nickname \"*np*\"\n",
    "\n",
    "Like Game of Thrones is might be seen as GoT by fan members\n",
    "\n",
    "These nicknames are used by the entire python community. You'll almost always see import numpy as np. You can choose to name it whatever you want, but for ease, I use the same nicknames the community has chosen.\n",
    "\n",
    "Generally, I input all of my packages in the first cell at the top of the notebook. Then I don't have to bother with it, again. Once it is loaded it works for the whole notebook. However, if you have to restart your *kernel* you'll have to import the packages again.\n",
    "\n",
    "When you call a function from a package you will always use the package first and then call the function\n",
    "\n",
    "*package*.*function*()\n"
   ]
  },
  {
   "cell_type": "code",
   "execution_count": null,
   "metadata": {
    "slideshow": {
     "slide_type": "fragment"
    }
   },
   "outputs": [],
   "source": [
    "import numpy as np\n",
    "# I've imported the package numpy as np\n",
    "np.arange(4) \n",
    "# I am calling the package numpy that I nicknamed np from my library and using a function called arrange with an input of 4"
   ]
  },
  {
   "cell_type": "code",
   "execution_count": null,
   "metadata": {},
   "outputs": [],
   "source": [
    "import numpy as np"
   ]
  },
  {
   "cell_type": "markdown",
   "metadata": {
    "slideshow": {
     "slide_type": "slide"
    }
   },
   "source": [
    "# Nouns\n",
    "\n",
    "## Types\n",
    "\n",
    "\n",
    "Python can take a variety of 'type' seemlessly. There are 3 types: **strings**, **float**, **integers**\n",
    "\n",
    "This is important to understand because when we talk about data manipulation, sometimes you want to deal with strings, integers and floats. They have different functionalites, and often bugs in code are related to a mix up between these types. \n",
    "\n",
    "### Strings\n",
    "Strings are a sequence of characters. You can denote a string with a single or double quotation around text.\n",
    "\n",
    "Even if you input numbers and use quotations, it becomes a string - it doesn't matter if it is a letter or number."
   ]
  },
  {
   "cell_type": "code",
   "execution_count": null,
   "metadata": {
    "slideshow": {
     "slide_type": "fragment"
    }
   },
   "outputs": [],
   "source": [
    "print('hello, world!')\n",
    "print('1456')\n",
    "print(1456)\n",
    "print(\"I'm coding!\")"
   ]
  },
  {
   "cell_type": "markdown",
   "metadata": {
    "slideshow": {
     "slide_type": "subslide"
    }
   },
   "source": [
    "### Float\n",
    "\n",
    "Float is essentially anything with a decimal - also called \"floating-point numbers\""
   ]
  },
  {
   "cell_type": "code",
   "execution_count": null,
   "metadata": {
    "slideshow": {
     "slide_type": "fragment"
    }
   },
   "outputs": [],
   "source": [
    "float(105)\n",
    "float(5/4)"
   ]
  },
  {
   "cell_type": "markdown",
   "metadata": {
    "slideshow": {
     "slide_type": "subslide"
    }
   },
   "source": [
    "### Integers \n",
    "Integers are, well, integers. Whole numbers without a decimal point"
   ]
  },
  {
   "cell_type": "code",
   "execution_count": null,
   "metadata": {
    "slideshow": {
     "slide_type": "fragment"
    }
   },
   "outputs": [],
   "source": [
    "int(105)"
   ]
  },
  {
   "cell_type": "markdown",
   "metadata": {
    "slideshow": {
     "slide_type": "subslide"
    }
   },
   "source": [
    "<img src = \"https://media.giphy.com/media/jRen3r5KuFwur3EuJf/giphy.gif\">\n",
    "\n",
    "YES! But, there will be a time that you will ask yourself, why isn't this working? And I'm willing to bet that you didn't define the right type. So always be aware of the type! Issues really arise in differences of type between string and float/integer."
   ]
  },
  {
   "cell_type": "markdown",
   "metadata": {
    "slideshow": {
     "slide_type": "subslide"
    }
   },
   "source": [
    "## Variables & Reassignment\n",
    "\n",
    "I became a Python Evanglist when I learned about the ease of assignment statements for creating variables.\n",
    "\n",
    "You can assign variable names that begin with an alphabetical character to whatever you want it to be. Really. Anything.\n",
    "\n",
    "This is generally useful - but, particulary when we work with data and different classes (we'll get to that).\n",
    "\n",
    "Coming from other coding languages, I was legit:\n",
    "<img src =\"https://media.giphy.com/media/OK27wINdQS5YQ/giphy.gif\" width = 300>\n"
   ]
  },
  {
   "cell_type": "code",
   "execution_count": 1,
   "metadata": {
    "slideshow": {
     "slide_type": "fragment"
    }
   },
   "outputs": [],
   "source": [
    "#I assign the variable x to something (in this case a value)\n",
    "x = 5"
   ]
  },
  {
   "cell_type": "code",
   "execution_count": 2,
   "metadata": {},
   "outputs": [
    {
     "name": "stdout",
     "output_type": "stream",
     "text": [
      "5\n"
     ]
    }
   ],
   "source": [
    "print(x)"
   ]
  },
  {
   "cell_type": "code",
   "execution_count": 3,
   "metadata": {},
   "outputs": [
    {
     "name": "stdout",
     "output_type": "stream",
     "text": [
      "5.0\n"
     ]
    }
   ],
   "source": [
    "x = float(5)\n",
    "\n",
    "print(x)"
   ]
  },
  {
   "cell_type": "code",
   "execution_count": 4,
   "metadata": {
    "slideshow": {
     "slide_type": "fragment"
    }
   },
   "outputs": [
    {
     "data": {
      "text/plain": [
       "5.0"
      ]
     },
     "execution_count": 4,
     "metadata": {},
     "output_type": "execute_result"
    }
   ],
   "source": [
    "#I tell python to return whatever is inside the variable x\n",
    "x"
   ]
  },
  {
   "cell_type": "code",
   "execution_count": 5,
   "metadata": {
    "slideshow": {
     "slide_type": "fragment"
    }
   },
   "outputs": [
    {
     "name": "stdout",
     "output_type": "stream",
     "text": [
      "25\n"
     ]
    },
    {
     "data": {
      "text/plain": [
       "30"
      ]
     },
     "execution_count": 5,
     "metadata": {},
     "output_type": "execute_result"
    }
   ],
   "source": [
    "# I reassign the variable to something else\n",
    "x=25\n",
    "print(x)\n",
    "x=30\n",
    "x"
   ]
  },
  {
   "cell_type": "code",
   "execution_count": 6,
   "metadata": {
    "slideshow": {
     "slide_type": "fragment"
    }
   },
   "outputs": [
    {
     "data": {
      "text/plain": [
       "30"
      ]
     },
     "execution_count": 6,
     "metadata": {},
     "output_type": "execute_result"
    }
   ],
   "source": [
    "# now it is something else\n",
    "x"
   ]
  },
  {
   "cell_type": "code",
   "execution_count": 9,
   "metadata": {
    "slideshow": {
     "slide_type": "fragment"
    }
   },
   "outputs": [],
   "source": [
    "# I reassign the variable to something a string (in this case)\n",
    "x ='I\\'m a new variable!'"
   ]
  },
  {
   "cell_type": "code",
   "execution_count": 10,
   "metadata": {
    "slideshow": {
     "slide_type": "fragment"
    }
   },
   "outputs": [
    {
     "data": {
      "text/plain": [
       "\"I'm a new variable!\""
      ]
     },
     "execution_count": 10,
     "metadata": {},
     "output_type": "execute_result"
    }
   ],
   "source": [
    "#now it is a string\n",
    "x"
   ]
  },
  {
   "cell_type": "code",
   "execution_count": 11,
   "metadata": {
    "slideshow": {
     "slide_type": "fragment"
    }
   },
   "outputs": [],
   "source": [
    "new_variable = 500*34"
   ]
  },
  {
   "cell_type": "code",
   "execution_count": 12,
   "metadata": {
    "slideshow": {
     "slide_type": "fragment"
    }
   },
   "outputs": [
    {
     "data": {
      "text/plain": [
       "17000"
      ]
     },
     "execution_count": 12,
     "metadata": {},
     "output_type": "execute_result"
    }
   ],
   "source": [
    "'500+5'\n",
    "new_variable"
   ]
  },
  {
   "cell_type": "code",
   "execution_count": 14,
   "metadata": {},
   "outputs": [
    {
     "data": {
      "text/plain": [
       "5.0"
      ]
     },
     "execution_count": 14,
     "metadata": {},
     "output_type": "execute_result"
    }
   ],
   "source": [
    "float(7)\n",
    "float(5)"
   ]
  },
  {
   "cell_type": "markdown",
   "metadata": {
    "slideshow": {
     "slide_type": "subslide"
    }
   },
   "source": [
    "- The thing about variables - you'll want to try to do your best to name them appropriately. It's easy to forget what is stored in them otherwise. \n",
    "\n",
    "Computer scientists are WAY better at this than economists. They have super long names for variables, while economists like to abbreviate everything. \n",
    "\n",
    "It doesn't *really* matter, but it will make your life easier. You can also always document well and when you have completed your work, you will always want to attach a code book so people know the definitions of your variables."
   ]
  },
  {
   "cell_type": "markdown",
   "metadata": {},
   "source": [
    "### Exercise\n",
    "1. Create a variable called string_var with a string\n",
    "2. Create a variable called int_var with an integer\n",
    "3. Assign the variable string_var the string \"ECO590\""
   ]
  },
  {
   "cell_type": "markdown",
   "metadata": {
    "slideshow": {
     "slide_type": "slide"
    }
   },
   "source": [
    "# Lists\n",
    "\n",
    "Lists are sequences of values (strings are sequences that are limited to characters)\n",
    "\n",
    "Lists have elements within them - elements can be composed of numbers, letters, words, variables, etc.\n",
    "\n",
    "lists are defined by hard brackets `[]` and elements within the brackets are separated by commas `,` \n",
    "\n",
    "Whenever you want to create a list, you tell python this with hard brackets `[]`\n",
    "\n",
    "\\[*element1*, *element2*, *element3*\\]\n",
    "\n",
    "You can turn lists into a variable (named lists, essentially)\n",
    "\n",
    "*variable* = \\[*element1*, *element2*, *element3*\\]"
   ]
  },
  {
   "cell_type": "code",
   "execution_count": 15,
   "metadata": {
    "slideshow": {
     "slide_type": "fragment"
    }
   },
   "outputs": [
    {
     "data": {
      "text/plain": [
       "['dog', 'cat', 'bird']"
      ]
     },
     "execution_count": 15,
     "metadata": {},
     "output_type": "execute_result"
    }
   ],
   "source": [
    "['dog','cat','bird']"
   ]
  },
  {
   "cell_type": "code",
   "execution_count": 16,
   "metadata": {
    "slideshow": {
     "slide_type": "fragment"
    }
   },
   "outputs": [
    {
     "name": "stdout",
     "output_type": "stream",
     "text": [
      "['dog', 'cat', 'bird']\n"
     ]
    }
   ],
   "source": [
    "#list1 has 3 element\n",
    "list1 = ['dog','cat','bird']\n",
    "print(list1)"
   ]
  },
  {
   "cell_type": "code",
   "execution_count": 18,
   "metadata": {
    "slideshow": {
     "slide_type": "fragment"
    }
   },
   "outputs": [
    {
     "name": "stdout",
     "output_type": "stream",
     "text": [
      "[5, 7, 3500]\n"
     ]
    }
   ],
   "source": [
    "print(list1)\n",
    "list1 = [5,7,3500]"
   ]
  },
  {
   "cell_type": "code",
   "execution_count": 19,
   "metadata": {
    "slideshow": {
     "slide_type": "fragment"
    }
   },
   "outputs": [
    {
     "data": {
      "text/plain": [
       "[55, '87']"
      ]
     },
     "execution_count": 19,
     "metadata": {},
     "output_type": "execute_result"
    }
   ],
   "source": [
    "x= 55\n",
    "y='87'\n",
    "list1 = [x,y]\n",
    "list1"
   ]
  },
  {
   "cell_type": "code",
   "execution_count": 23,
   "metadata": {
    "slideshow": {
     "slide_type": "fragment"
    }
   },
   "outputs": [
    {
     "name": "stdout",
     "output_type": "stream",
     "text": [
      "hi, luna !\n"
     ]
    },
    {
     "data": {
      "text/plain": [
       "['h', 'i', ',', ' ', 'l', 'u', 'n', 'a', ' ', '!']"
      ]
     },
     "execution_count": 23,
     "metadata": {},
     "output_type": "execute_result"
    }
   ],
   "source": [
    "#Here's a cool trick where you can convert a string into a list\n",
    "w = 'hi, luna !'\n",
    "print(w)\n",
    "list(w)"
   ]
  },
  {
   "cell_type": "code",
   "execution_count": 26,
   "metadata": {
    "slideshow": {
     "slide_type": "fragment"
    }
   },
   "outputs": [
    {
     "data": {
      "text/plain": [
       "['hi,', 'luna', '!']"
      ]
     },
     "execution_count": 26,
     "metadata": {},
     "output_type": "execute_result"
    }
   ],
   "source": [
    "#you can split up words, too, with a delimiter (something that defines what separates values) \n",
    "# this turns a string into a list\n",
    "w.split(' ')\n",
    "#take a look how we utilized the variable w here so that we tell the function to split the variable w"
   ]
  },
  {
   "cell_type": "code",
   "execution_count": 27,
   "metadata": {},
   "outputs": [
    {
     "data": {
      "text/plain": [
       "['hi', ' luna !']"
      ]
     },
     "execution_count": 27,
     "metadata": {},
     "output_type": "execute_result"
    }
   ],
   "source": [
    "w.split(',')"
   ]
  },
  {
   "cell_type": "markdown",
   "metadata": {},
   "source": [
    "### Exercise\n",
    "\n",
    "1. create a list with the days of the week"
   ]
  },
  {
   "cell_type": "code",
   "execution_count": null,
   "metadata": {},
   "outputs": [],
   "source": [
    "days_week = ['Monday', 'Tuesday','Wednesday','Thursday','Friday']"
   ]
  },
  {
   "cell_type": "markdown",
   "metadata": {},
   "source": [
    "# Dictionaries\n",
    "\n",
    "Dictionaries are lists, but more general. They map **keys** to **values** - these pairing are an **items**.  As you saw before, items are separated by commas.\n",
    "\n",
    "Dictionaries are defined when you use curly brackets:\n",
    "\n",
    "`Dict = {'key1': value1, 'key2': value2}`\n",
    "\n",
    "The key is listed first and you match it with a value with a colon (:) and separate pairs with a comma (,).\n",
    "\n",
    "This can be very useful in **for loops** (we will get to this in a moment) or when you want to recall a particular key associated with a value. You'll also use these dictionaries in *pandas* when you define or rename columns. We'll get to pandas, but it's not a cute bear from China."
   ]
  },
  {
   "cell_type": "markdown",
   "metadata": {},
   "source": [
    "For example, let's say I have a set of countries, that I always want to be associated with a set of country codes. We can create a dictionary that defines the name of a country with their country code."
   ]
  },
  {
   "cell_type": "code",
   "execution_count": 29,
   "metadata": {},
   "outputs": [],
   "source": [
    "country_codes = {'Afghanistan':'AFG', 'Brazil':'BRA', 'Botswana':'BWA', \n",
    "                 'China':'CHN', 'El Salvadaor': 'SLV', 'Egypt': 'EGY',\n",
    "                 'Kenya':'KEN', 'India': 'IND', 'The Netherlands': 'NLD' , \n",
    "                 'New Zealand':'NZL','Oman':'OMN','Poland':'POL',\n",
    "                 'United States': 'USA', 'Viet Nam': 'VNM'}"
   ]
  },
  {
   "cell_type": "code",
   "execution_count": 30,
   "metadata": {},
   "outputs": [
    {
     "data": {
      "text/plain": [
       "'USA'"
      ]
     },
     "execution_count": 30,
     "metadata": {},
     "output_type": "execute_result"
    }
   ],
   "source": [
    "country_codes.get('United States')"
   ]
  },
  {
   "cell_type": "code",
   "execution_count": 31,
   "metadata": {},
   "outputs": [],
   "source": [
    "# we can add a dicitonary to our list (at the end)\n",
    "country_codes['Canada'] = 'CND'"
   ]
  },
  {
   "cell_type": "code",
   "execution_count": 32,
   "metadata": {},
   "outputs": [
    {
     "data": {
      "text/plain": [
       "{'Afghanistan': 'AFG',\n",
       " 'Brazil': 'BRA',\n",
       " 'Botswana': 'BWA',\n",
       " 'China': 'CHN',\n",
       " 'El Salvadaor': 'SLV',\n",
       " 'Egypt': 'EGY',\n",
       " 'Kenya': 'KEN',\n",
       " 'India': 'IND',\n",
       " 'The Netherlands': 'NLD',\n",
       " 'New Zealand': 'NZL',\n",
       " 'Oman': 'OMN',\n",
       " 'Poland': 'POL',\n",
       " 'United States': 'USA',\n",
       " 'Viet Nam': 'VNM',\n",
       " 'Canada': 'CND'}"
      ]
     },
     "execution_count": 32,
     "metadata": {},
     "output_type": "execute_result"
    }
   ],
   "source": [
    "country_codes"
   ]
  },
  {
   "cell_type": "code",
   "execution_count": 33,
   "metadata": {},
   "outputs": [
    {
     "data": {
      "text/plain": [
       "dict_keys(['Afghanistan', 'Brazil', 'Botswana', 'China', 'El Salvadaor', 'Egypt', 'Kenya', 'India', 'The Netherlands', 'New Zealand', 'Oman', 'Poland', 'United States', 'Viet Nam', 'Canada'])"
      ]
     },
     "execution_count": 33,
     "metadata": {},
     "output_type": "execute_result"
    }
   ],
   "source": [
    "# can get all of the keys in our dictionary\n",
    "country_codes.keys()"
   ]
  },
  {
   "cell_type": "code",
   "execution_count": 34,
   "metadata": {},
   "outputs": [
    {
     "data": {
      "text/plain": [
       "dict_items([('Afghanistan', 'AFG'), ('Brazil', 'BRA'), ('Botswana', 'BWA'), ('China', 'CHN'), ('El Salvadaor', 'SLV'), ('Egypt', 'EGY'), ('Kenya', 'KEN'), ('India', 'IND'), ('The Netherlands', 'NLD'), ('New Zealand', 'NZL'), ('Oman', 'OMN'), ('Poland', 'POL'), ('United States', 'USA'), ('Viet Nam', 'VNM'), ('Canada', 'CND')])"
      ]
     },
     "execution_count": 34,
     "metadata": {},
     "output_type": "execute_result"
    }
   ],
   "source": [
    "# OR can get all of the items in our dictionary (items are separated by commas)\n",
    "country_codes.items()"
   ]
  },
  {
   "cell_type": "code",
   "execution_count": 35,
   "metadata": {},
   "outputs": [
    {
     "data": {
      "text/plain": [
       "dict_values(['AFG', 'BRA', 'BWA', 'CHN', 'SLV', 'EGY', 'KEN', 'IND', 'NLD', 'NZL', 'OMN', 'POL', 'USA', 'VNM', 'CND'])"
      ]
     },
     "execution_count": 35,
     "metadata": {},
     "output_type": "execute_result"
    }
   ],
   "source": [
    "# OR just the values \n",
    "country_codes.values()"
   ]
  },
  {
   "cell_type": "markdown",
   "metadata": {},
   "source": [
    "Some technical things - \n",
    "\n",
    "Dictionaries are implemented using a *hastable* and the keys must be hashable. A *hash* is a function that takes a value (of any kind) and returns an integer. Dictionaries use these integers, called hash values, to store and look up key-value pairs. When you see an error relating to something not being hashable - this is why. Be sure to check to see that the values are integers.\n",
    "\n",
    "Also, you can't have duplicate keys. Each key must be unique.\n"
   ]
  },
  {
   "cell_type": "code",
   "execution_count": 36,
   "metadata": {},
   "outputs": [
    {
     "data": {
      "text/plain": [
       "[55, '87']"
      ]
     },
     "execution_count": 36,
     "metadata": {},
     "output_type": "execute_result"
    }
   ],
   "source": [
    "list1"
   ]
  },
  {
   "cell_type": "code",
   "execution_count": 37,
   "metadata": {},
   "outputs": [
    {
     "ename": "TypeError",
     "evalue": "unhashable type: 'list'",
     "output_type": "error",
     "traceback": [
      "\u001b[0;31m---------------------------------------------------------------------------\u001b[0m",
      "\u001b[0;31mTypeError\u001b[0m                                 Traceback (most recent call last)",
      "\u001b[0;32m<ipython-input-37-4ca0bf1c18b9>\u001b[0m in \u001b[0;36m<module>\u001b[0;34m\u001b[0m\n\u001b[1;32m      1\u001b[0m \u001b[0;31m# here is an example\u001b[0m\u001b[0;34m\u001b[0m\u001b[0;34m\u001b[0m\u001b[0;34m\u001b[0m\u001b[0m\n\u001b[0;32m----> 2\u001b[0;31m \u001b[0md\u001b[0m \u001b[0;34m=\u001b[0m \u001b[0;34m{\u001b[0m\u001b[0mlist1\u001b[0m\u001b[0;34m}\u001b[0m\u001b[0;34m\u001b[0m\u001b[0;34m\u001b[0m\u001b[0m\n\u001b[0m\u001b[1;32m      3\u001b[0m \u001b[0;31m#lists are unhashable\u001b[0m\u001b[0;34m\u001b[0m\u001b[0;34m\u001b[0m\u001b[0;34m\u001b[0m\u001b[0m\n",
      "\u001b[0;31mTypeError\u001b[0m: unhashable type: 'list'"
     ]
    }
   ],
   "source": [
    "# here is an example\n",
    "d = {list1}\n",
    "#lists are unhashable"
   ]
  },
  {
   "cell_type": "markdown",
   "metadata": {},
   "source": [
    "You can do a lot more with dictionaries: go down [this rabbithole](https://realpython.com/python-dicts/) to learn more"
   ]
  },
  {
   "cell_type": "markdown",
   "metadata": {},
   "source": [
    "# Tuples\n",
    "\n",
    "Tuples are a sequence of values. I rarely use them independently, but you will see that they are embedded in many of the things we do with data (when we get to pandas). The key difference between tuples and lists is that tuples are *immutable* (lists are not). It means that whatever you put in the tuple, it can't be changed (you can, of course reassign the entire definition), but you can not change one element in the list. \n",
    "\n",
    "It is a comma separated list of values:\n",
    "\n",
    "`Tup = ('value1', 'value2')`\n"
   ]
  },
  {
   "cell_type": "code",
   "execution_count": 38,
   "metadata": {},
   "outputs": [
    {
     "name": "stdout",
     "output_type": "stream",
     "text": [
      "('l', 'u', 'n', 'a', ' ', 'b', 'a', 'r', 'k', 's')\n"
     ]
    }
   ],
   "source": [
    "#tuples break down each element within a sequence\n",
    "Luna = tuple('luna barks')\n",
    "print(Luna)\n",
    "# There are values in this tuple"
   ]
  },
  {
   "cell_type": "markdown",
   "metadata": {},
   "source": [
    "### Slicing\n",
    "You can do the method \"slicing\" in lists or tuples. Slicing uses indices of characters to tell you their position in the list. "
   ]
  },
  {
   "cell_type": "code",
   "execution_count": 39,
   "metadata": {},
   "outputs": [
    {
     "data": {
      "text/plain": [
       "('l', 'u', 'n', 'a', ' ', 'b', 'a', 'r', 'k', 's')"
      ]
     },
     "execution_count": 39,
     "metadata": {},
     "output_type": "execute_result"
    }
   ],
   "source": [
    "Luna"
   ]
  },
  {
   "cell_type": "markdown",
   "metadata": {},
   "source": [
    "<img src = 'slicing.png'>"
   ]
  },
  {
   "cell_type": "code",
   "execution_count": 45,
   "metadata": {},
   "outputs": [
    {
     "name": "stdout",
     "output_type": "stream",
     "text": [
      "b\n"
     ]
    },
    {
     "data": {
      "text/plain": [
       "('l', 'u', 'n', 'a', ' ', 'b', 'a', 'r', 'k', 's')"
      ]
     },
     "execution_count": 45,
     "metadata": {},
     "output_type": "execute_result"
    }
   ],
   "source": [
    "# the character in position 5\n",
    "print(Luna[5])\n",
    "Luna"
   ]
  },
  {
   "cell_type": "code",
   "execution_count": 55,
   "metadata": {},
   "outputs": [
    {
     "name": "stdout",
     "output_type": "stream",
     "text": [
      "('b', 'a')\n"
     ]
    }
   ],
   "source": [
    "# you can call particular items within a tuple,\n",
    "#here I am asking for items 1 up to 3 in the tuple named l.\n",
    "print(Luna[5:7])\n",
    "# your going to be using this in dataframes \n",
    "#when we want to call particular rows or columns in the data.\n",
    "#Why is this starting at 'u'\n",
    "# index is 0"
   ]
  },
  {
   "cell_type": "code",
   "execution_count": null,
   "metadata": {},
   "outputs": [],
   "source": [
    "# you can call values in a tuple in a lot of different ways\n",
    "# This means to give me all values after item 3\n",
    "print(Luna[3:])"
   ]
  },
  {
   "cell_type": "code",
   "execution_count": null,
   "metadata": {},
   "outputs": [],
   "source": [
    "# give me values before 3 \n",
    "print(Luna[:3])"
   ]
  },
  {
   "cell_type": "code",
   "execution_count": null,
   "metadata": {},
   "outputs": [],
   "source": [
    "#give me the last two values\n",
    "print(Luna[-2:])"
   ]
  },
  {
   "cell_type": "code",
   "execution_count": null,
   "metadata": {},
   "outputs": [],
   "source": [
    "#exclude the last two values going backwards\n",
    "print(Luna[:-2])"
   ]
  },
  {
   "cell_type": "markdown",
   "metadata": {},
   "source": [
    "### Exercise\n",
    "\n",
    "Use this list:\n",
    "\n",
    "`Dogs = ['Corgie', 'Doodles', 'Australian Shephards', 'Pit Bull', 'Doberman', 'Irish Setter', 'Bull Dog']`\n",
    "\n",
    "1. Slice the variable Dogs to get the last item in the list.\n",
    "2. Slice the variable to get the item 'Doodles'.\n",
    "3. Slice the variable to get the last three items in the list."
   ]
  },
  {
   "cell_type": "code",
   "execution_count": null,
   "metadata": {},
   "outputs": [],
   "source": [
    "Dogs = ['Corgie', 'Doodles', 'Australian Shephards', 'Pit Bull', 'Doberman', 'Irish Setter', 'Bull Dog']\n",
    "print(Dogs[-1:])\n",
    "print(Dogs[0:3])\n",
    "print(Dogs[-3:])\n",
    "\n"
   ]
  },
  {
   "cell_type": "markdown",
   "metadata": {},
   "source": [
    "Knowing the format of these types of items in pandas can be helpful for when you debug. Often an error is due to a type mismatch - when you ask python to do something and it says it's unhashable or immutable, it's due to this type of error. Also, know the syntax of these is also important.\n",
    "\n",
    "For example, when I want to change the name of a column in a dataframe, the syntax is actually a dictionary, so I must be sure that I use the curly brackets and not the square brackets, and that to assign a key a value, I need to use the colon. Many errors can arise from not understanding the syntax related to the particular type or operator."
   ]
  },
  {
   "cell_type": "markdown",
   "metadata": {},
   "source": [
    "# If, Ands, and Buts"
   ]
  },
  {
   "cell_type": "markdown",
   "metadata": {},
   "source": [
    "So technically, packages are actually paragraphs. But, since we use packages to do stuff, it made sense to call it complex verbs to give you an idea of what it does. This section goes over logical statements and expressions. These are the basic building blocks of most code - it's like learning verb 'to be' \n",
    "\n"
   ]
  },
  {
   "cell_type": "markdown",
   "metadata": {},
   "source": [
    "# Logic Statements and Expressions\n",
    "\n",
    "A big part of coding is using logic - which consist of conditional statements. Python operates on these conditional statements - this is particularly important when we get to data management. Essentially, you will constantly be asking python a series of True or False questions of which it will return to you the answer. \n",
    "\n",
    "When you query data, you'll have to think about how you can get the data you want with a series of true or false queries. "
   ]
  },
  {
   "cell_type": "markdown",
   "metadata": {},
   "source": [
    "## Boolean expressions\n",
    "A *Boolean expression* is something that is true or false. Long ago in a HS far far away, I was taught boolean expressions by the librarian to search the library catalog. \n",
    "\n",
    "These will be really important in data management, so memorize them!\n",
    "\n",
    "<img src = \"https://media.giphy.com/media/GoeAgxrr0lkqI/giphy.gif\" width = 300>"
   ]
  },
  {
   "cell_type": "code",
   "execution_count": null,
   "metadata": {},
   "outputs": [],
   "source": [
    "# Equals (always a double =)\n",
    "5 == 20"
   ]
  },
  {
   "cell_type": "code",
   "execution_count": null,
   "metadata": {},
   "outputs": [],
   "source": [
    "x = 5 # assignment\n",
    "x == 5 #boolean"
   ]
  },
  {
   "cell_type": "code",
   "execution_count": null,
   "metadata": {},
   "outputs": [],
   "source": [
    "# Boolean expressions\n",
    "x = 5\n",
    "y = 9\n",
    "print (x != y) # does not equal\n",
    "print (x > y) # greater than\n",
    "print (x < y) # less than\n",
    "print (x >= y) # greater than or equal\n",
    "print (x <= y) # less than or equal"
   ]
  },
  {
   "cell_type": "markdown",
   "metadata": {},
   "source": [
    "## Logical expressions\n",
    "<img src = \"operators.png\" width = 500>"
   ]
  },
  {
   "cell_type": "code",
   "execution_count": 56,
   "metadata": {
    "scrolled": true
   },
   "outputs": [
    {
     "data": {
      "text/plain": [
       "False"
      ]
     },
     "execution_count": 56,
     "metadata": {},
     "output_type": "execute_result"
    }
   ],
   "source": [
    "x = 5\n",
    "x<10 and x <4"
   ]
  },
  {
   "cell_type": "code",
   "execution_count": 57,
   "metadata": {},
   "outputs": [
    {
     "data": {
      "text/plain": [
       "True"
      ]
     },
     "execution_count": 57,
     "metadata": {},
     "output_type": "execute_result"
    }
   ],
   "source": [
    "x<10 or x>10"
   ]
  },
  {
   "cell_type": "code",
   "execution_count": 58,
   "metadata": {},
   "outputs": [
    {
     "data": {
      "text/plain": [
       "False"
      ]
     },
     "execution_count": 58,
     "metadata": {},
     "output_type": "execute_result"
    }
   ],
   "source": [
    "not x<10 "
   ]
  },
  {
   "cell_type": "code",
   "execution_count": null,
   "metadata": {
    "scrolled": true
   },
   "outputs": [],
   "source": [
    "x<10 is not 10\n",
    "# you can do this, but you'll get a warning. Generally, it's always better to use the boolean in these cases"
   ]
  },
  {
   "cell_type": "markdown",
   "metadata": {},
   "source": [
    "## Identity Operators \n",
    "\n",
    "Operators ask about existence #meta \n",
    "It usually is about comparing an object to another - this can be useful in times when you are searching for something.  Usually this is already coded within an already existing function, so you might not use it directly.\n",
    "\n",
    "It can also be useful when trying to find if an item is in a list or comparing two lists and getting a subset of that list. (typically you'll use, isin or notin)"
   ]
  },
  {
   "cell_type": "code",
   "execution_count": 59,
   "metadata": {},
   "outputs": [
    {
     "data": {
      "text/plain": [
       "False"
      ]
     },
     "execution_count": 59,
     "metadata": {},
     "output_type": "execute_result"
    }
   ],
   "source": [
    "a = 'luna'\n",
    "b = 'woof'\n",
    "a is b"
   ]
  },
  {
   "cell_type": "code",
   "execution_count": 60,
   "metadata": {},
   "outputs": [
    {
     "data": {
      "text/plain": [
       "True"
      ]
     },
     "execution_count": 60,
     "metadata": {},
     "output_type": "execute_result"
    }
   ],
   "source": [
    "a is not b"
   ]
  },
  {
   "cell_type": "code",
   "execution_count": 61,
   "metadata": {},
   "outputs": [
    {
     "data": {
      "text/plain": [
       "True"
      ]
     },
     "execution_count": 61,
     "metadata": {},
     "output_type": "execute_result"
    }
   ],
   "source": [
    "b = 'luna'\n",
    "a is b"
   ]
  },
  {
   "cell_type": "markdown",
   "metadata": {},
   "source": [
    "## Membership Operators\n",
    "\n",
    "Membership operators are used to test if a sequence is presented in an object. This can be used in a lot of ways, for example to see if a value is in or is not in a particular list or dictionary."
   ]
  },
  {
   "cell_type": "code",
   "execution_count": 69,
   "metadata": {},
   "outputs": [
    {
     "data": {
      "text/plain": [
       "'Luna'"
      ]
     },
     "execution_count": 69,
     "metadata": {},
     "output_type": "execute_result"
    }
   ],
   "source": [
    "l = 'Luna'\n",
    "l"
   ]
  },
  {
   "cell_type": "code",
   "execution_count": 73,
   "metadata": {},
   "outputs": [
    {
     "data": {
      "text/plain": [
       "True"
      ]
     },
     "execution_count": 73,
     "metadata": {},
     "output_type": "execute_result"
    }
   ],
   "source": [
    "'a' in l"
   ]
  },
  {
   "cell_type": "code",
   "execution_count": 71,
   "metadata": {},
   "outputs": [
    {
     "data": {
      "text/plain": [
       "False"
      ]
     },
     "execution_count": 71,
     "metadata": {},
     "output_type": "execute_result"
    }
   ],
   "source": [
    "'a' not in l"
   ]
  },
  {
   "cell_type": "code",
   "execution_count": 74,
   "metadata": {},
   "outputs": [
    {
     "data": {
      "text/plain": [
       "False"
      ]
     },
     "execution_count": 74,
     "metadata": {},
     "output_type": "execute_result"
    }
   ],
   "source": [
    "'USA' in country_codes\n",
    "# In dictionaries it only looks in the keys, not the values (so what you assign as a key or value matters)"
   ]
  },
  {
   "cell_type": "code",
   "execution_count": 75,
   "metadata": {},
   "outputs": [
    {
     "data": {
      "text/plain": [
       "True"
      ]
     },
     "execution_count": 75,
     "metadata": {},
     "output_type": "execute_result"
    }
   ],
   "source": [
    "'United States' in country_codes"
   ]
  },
  {
   "cell_type": "code",
   "execution_count": 76,
   "metadata": {},
   "outputs": [
    {
     "data": {
      "text/plain": [
       "{'Afghanistan': 'AFG',\n",
       " 'Brazil': 'BRA',\n",
       " 'Botswana': 'BWA',\n",
       " 'China': 'CHN',\n",
       " 'El Salvadaor': 'SLV',\n",
       " 'Egypt': 'EGY',\n",
       " 'Kenya': 'KEN',\n",
       " 'India': 'IND',\n",
       " 'The Netherlands': 'NLD',\n",
       " 'New Zealand': 'NZL',\n",
       " 'Oman': 'OMN',\n",
       " 'Poland': 'POL',\n",
       " 'United States': 'USA',\n",
       " 'Viet Nam': 'VNM',\n",
       " 'Canada': 'CND'}"
      ]
     },
     "execution_count": 76,
     "metadata": {},
     "output_type": "execute_result"
    }
   ],
   "source": [
    "country_codes"
   ]
  },
  {
   "cell_type": "markdown",
   "metadata": {},
   "source": [
    "## Bitwise Operators\n",
    "\n",
    "These operators are incredibly useful when cleaning data - so memorize them. It'll help you speed through data tasks in the future. They are just like previous operators and operate on a logical statement that will return true or false statements.\n",
    "\n",
    "and = `&`\n",
    "\n",
    "or = `|`\n",
    "\n",
    "not = `~`\n",
    "\n",
    "XOR (exclusive OR) = `^`\n",
    "\n",
    "We will get to these operators when working with data. For now it's useful to know them and love them. Working with them outside of the data world can get very CS technical (it's about bits and how computers encode them, so I'll spare you these details & it's not so important in practice).\n",
    "\n",
    "<img src =\"https://media.giphy.com/media/kcesjPPcMH7EV7Q0Q5/giphy.gif\" width = 200>"
   ]
  },
  {
   "cell_type": "code",
   "execution_count": 77,
   "metadata": {},
   "outputs": [
    {
     "data": {
      "text/plain": [
       "True"
      ]
     },
     "execution_count": 77,
     "metadata": {},
     "output_type": "execute_result"
    }
   ],
   "source": [
    "x = 15\n",
    "y = 20\n",
    "(x==25) | (y ==20)\n"
   ]
  },
  {
   "cell_type": "code",
   "execution_count": null,
   "metadata": {},
   "outputs": [],
   "source": []
  },
  {
   "cell_type": "code",
   "execution_count": 78,
   "metadata": {},
   "outputs": [
    {
     "ename": "TypeError",
     "evalue": "unsupported operand type(s) for &: 'str' and 'str'",
     "output_type": "error",
     "traceback": [
      "\u001b[0;31m---------------------------------------------------------------------------\u001b[0m",
      "\u001b[0;31mTypeError\u001b[0m                                 Traceback (most recent call last)",
      "\u001b[0;32m<ipython-input-78-db7d92e20e99>\u001b[0m in \u001b[0;36m<module>\u001b[0;34m\u001b[0m\n\u001b[1;32m      1\u001b[0m \u001b[0mx\u001b[0m \u001b[0;34m=\u001b[0m \u001b[0;34m'cat'\u001b[0m\u001b[0;34m\u001b[0m\u001b[0;34m\u001b[0m\u001b[0m\n\u001b[1;32m      2\u001b[0m \u001b[0my\u001b[0m \u001b[0;34m=\u001b[0m \u001b[0;34m'dog'\u001b[0m\u001b[0;34m\u001b[0m\u001b[0;34m\u001b[0m\u001b[0m\n\u001b[0;32m----> 3\u001b[0;31m \u001b[0mx\u001b[0m \u001b[0;34m&\u001b[0m \u001b[0my\u001b[0m \u001b[0;34m==\u001b[0m \u001b[0;34m'cat'\u001b[0m\u001b[0;34m\u001b[0m\u001b[0;34m\u001b[0m\u001b[0m\n\u001b[0m\u001b[1;32m      4\u001b[0m \u001b[0;31m# Example that it does not work with string\u001b[0m\u001b[0;34m\u001b[0m\u001b[0;34m\u001b[0m\u001b[0;34m\u001b[0m\u001b[0m\n",
      "\u001b[0;31mTypeError\u001b[0m: unsupported operand type(s) for &: 'str' and 'str'"
     ]
    }
   ],
   "source": [
    "x = 'cat'\n",
    "y = 'dog'\n",
    "x & y == 'cat'\n",
    "# Example that it does not work with string"
   ]
  },
  {
   "cell_type": "code",
   "execution_count": 79,
   "metadata": {},
   "outputs": [
    {
     "name": "stdout",
     "output_type": "stream",
     "text": [
      "False\n"
     ]
    },
    {
     "data": {
      "text/plain": [
       "True"
      ]
     },
     "execution_count": 79,
     "metadata": {},
     "output_type": "execute_result"
    }
   ],
   "source": [
    "#example of using bitwise operators with a boolean expression\n",
    "x = 15\n",
    "y = 20\n",
    "print(x|y ==20)\n",
    "\n",
    "x = 20\n",
    "y = 20\n",
    "x&y ==20"
   ]
  },
  {
   "cell_type": "code",
   "execution_count": null,
   "metadata": {},
   "outputs": [],
   "source": [
    "x = 15\n",
    "y = 20\n",
    "(x ==20)| (y ==20)\n"
   ]
  },
  {
   "cell_type": "code",
   "execution_count": null,
   "metadata": {},
   "outputs": [],
   "source": [
    "x = 15\n",
    "y = 20\n",
    "(x==15) ^ (y==20)\n",
    "# add and/or example for integers"
   ]
  },
  {
   "cell_type": "code",
   "execution_count": null,
   "metadata": {},
   "outputs": [],
   "source": [
    "#Exclusive OR\n",
    "print(False ^ True)\n",
    "print(True ^ True)\n",
    "print(True ^ False)\n",
    "print(False ^ False)"
   ]
  },
  {
   "cell_type": "markdown",
   "metadata": {},
   "source": [
    "Bitwise Operators operate on a set logical expressions - truth tables can help illuminate how they work. AND OR functions are more intuitive, XOR is a bit trickier - and honestly, I've never used it. Rare situations exist where you might want to search in this way.\n",
    "\n",
    "We can use truth tables to better understand the bitwise logical operators.\n",
    "\n",
    "<img src = 'bitwise_1.png' width =500>\n",
    "\n",
    "<img src = 'bitwise_2.png' width = 275>\n",
    "\n",
    "\n",
    "Enjoy [this rabbithole](https://realpython.com/python-bitwise-operators/#bitwise-xor) for more info.\n"
   ]
  },
  {
   "cell_type": "markdown",
   "metadata": {},
   "source": [
    "## Conditional execution\n",
    "\n",
    "These are magic words that you will be using a lot. They operationalize many tasks and when you combine them with loops or recursions, that's when the real magic of coding begins. \n",
    "\n",
    "<img src ='https://media.giphy.com/media/MqyWCZbMMFFL2/giphy.gif'  width = 150>"
   ]
  },
  {
   "cell_type": "markdown",
   "metadata": {},
   "source": [
    "Conditional executions are a set of logical expressions that help you control the flow of your operations (aka code). You want to have an order in the way that you do things so that you get the outcome that you want. If the order is not correct, often this can lead to problems. The best way to do this it to think in logical steps. Before writing your code, you might want to actually write out (when you start learning how to code) each step you need to take to get to the outcome that you want. In fact, that's basically documentation - writing in words the steps that you are taking in a block of code"
   ]
  },
  {
   "cell_type": "markdown",
   "metadata": {},
   "source": [
    "`if `\n",
    "is a conditional statement that will operate if the condition is met\n",
    "\n",
    "`else`\n",
    "is an alternative execution, essentially, if there are two possibilities, it will execute one of them depending on the statement. It is often use in conjunciton with `if`. \n",
    "\n",
    "`elif`\n",
    "is a chained conditional. If there are more than two possibilities, tack this on at the end. You can have more than one, too. \n"
   ]
  },
  {
   "cell_type": "code",
   "execution_count": 82,
   "metadata": {},
   "outputs": [
    {
     "name": "stdout",
     "output_type": "stream",
     "text": [
      "X is less!\n"
     ]
    }
   ],
   "source": [
    "# This is a simple statement that compares x and y. \n",
    "x= 35\n",
    "y = 100\n",
    "#print out a statement if x is less then y.\n",
    "if x < y:\n",
    "    print('X is less!')\n",
    "#Otherwise, print out that it is not less\n",
    "else:\n",
    "    print('X is not less')\n",
    "    "
   ]
  },
  {
   "cell_type": "code",
   "execution_count": 83,
   "metadata": {},
   "outputs": [
    {
     "name": "stdout",
     "output_type": "stream",
     "text": [
      "X is less!\n"
     ]
    }
   ],
   "source": [
    "# Let's exapand this and ask it to print out a statement if x is less than y\n",
    "if x < y:\n",
    "    print('X is less!')\n",
    "#print out a different statement if x is greater than y\n",
    "elif x>y:\n",
    "    print('X is greater than y')\n",
    "#print out a different statement if there it is anything else\n",
    "else:\n",
    "    print('x = y')"
   ]
  },
  {
   "cell_type": "code",
   "execution_count": 84,
   "metadata": {},
   "outputs": [
    {
     "name": "stdout",
     "output_type": "stream",
     "text": [
      "It is something else\n"
     ]
    }
   ],
   "source": [
    "# Here, we can see the same code prints out that they are something else\n",
    "x = 100\n",
    "y = 100\n",
    "if x < y:\n",
    "    print('X is less!')\n",
    "elif x>y:\n",
    "    print('X is greater than y')\n",
    "else:\n",
    "    print('It is something else')"
   ]
  },
  {
   "cell_type": "markdown",
   "metadata": {},
   "source": [
    "# NOTE\n",
    "\n",
    "There are some symbols that don't work in python because python uses it for other functions than we do in our every day python. To tell python to ignore the symbol you use `\\` right before it.\n"
   ]
  },
  {
   "cell_type": "code",
   "execution_count": null,
   "metadata": {},
   "outputs": [],
   "source": [
    "print('it's a girl!')"
   ]
  },
  {
   "cell_type": "code",
   "execution_count": null,
   "metadata": {},
   "outputs": [],
   "source": [
    "print('it\\'s a girl!')\n",
    "print ('she said, \\\"hello\\\" and I said \\\"good bye\\\"')\n"
   ]
  },
  {
   "cell_type": "markdown",
   "metadata": {},
   "source": [
    "# Sentences \n",
    "\n",
    "And finally, we can make full sentences! We will start with simple sentences and you'll work your way up by \n",
    "incorporating functions from packages, and before you know it you're a wizard.\n",
    "\n",
    "\n",
    "<img src= 'https://media.giphy.com/media/gL2yywTiuK7fTobybJ/giphy.gif' width = 200>\n",
    "yeah, this gif is kind of ridiculous in #nerdlevel, but I like it."
   ]
  },
  {
   "cell_type": "markdown",
   "metadata": {},
   "source": [
    "## For loops\n",
    "\n",
    "Here is where the automation begins. We may want to repeat a task multiple times so that we don't have to type code out repetitively - we may want to repeat an operations tens of times. Great coders write complex actions with few lines of code. \n",
    "\n",
    "for loops always begin with `for` followed by `in`. Generally it is:\n",
    "\n",
    "`for item in iterable:\n",
    "    Code to run`\n",
    "    \n",
    "An item is an element from an iterable (this can be a list, dictionary, tuple, or anything iterable in python). "
   ]
  },
  {
   "cell_type": "markdown",
   "metadata": {},
   "source": [
    "In this lecture we will cover conditional statement loops, but go in further detail in the next lecture about:\n",
    "- Nested Loops\n",
    "- While and Break Statements in Loops\n",
    "- Initalizing in Loops"
   ]
  },
  {
   "cell_type": "code",
   "execution_count": 88,
   "metadata": {},
   "outputs": [
    {
     "name": "stdout",
     "output_type": "stream",
     "text": [
      "60\n",
      "75\n",
      "90\n",
      "105\n"
     ]
    }
   ],
   "source": [
    "list1 = [20,25,30,35]\n",
    "for num in list1:\n",
    "    x = num*3\n",
    "  #  print(x)\n"
   ]
  },
  {
   "cell_type": "code",
   "execution_count": 90,
   "metadata": {},
   "outputs": [],
   "source": [
    "#What the above code is doing step by step\n",
    "x = 20*3\n",
    "x= 25*3\n",
    "x= 30*3\n",
    "x = 35*3"
   ]
  },
  {
   "cell_type": "markdown",
   "metadata": {},
   "source": [
    "### range\n",
    "\n",
    "range has a particular way in which it starts, ends and counts by (step)\n",
    "\n",
    "`range(start#, end#, step)`"
   ]
  },
  {
   "cell_type": "code",
   "execution_count": 93,
   "metadata": {},
   "outputs": [
    {
     "name": "stdout",
     "output_type": "stream",
     "text": [
      "20\n",
      "25\n",
      "30\n",
      "35\n"
     ]
    }
   ],
   "source": [
    "for i in range(20,36,5):\n",
    "    print(i)\n",
    "# notice that in range, it stops at 35, so the last number will not execute the command in the for loop.    "
   ]
  },
  {
   "cell_type": "code",
   "execution_count": 94,
   "metadata": {},
   "outputs": [],
   "source": [
    "# we can also recall the syntax here\n",
    "range?"
   ]
  },
  {
   "cell_type": "markdown",
   "metadata": {},
   "source": [
    "Below is another example where we can use dictionaries in a for loop"
   ]
  },
  {
   "cell_type": "code",
   "execution_count": null,
   "metadata": {},
   "outputs": [],
   "source": [
    "country_codes"
   ]
  },
  {
   "cell_type": "code",
   "execution_count": 96,
   "metadata": {},
   "outputs": [
    {
     "name": "stdout",
     "output_type": "stream",
     "text": [
      "Afghanistan\n",
      "Afghanistan new\n",
      "i new\n",
      "Brazil\n",
      "Brazil new\n",
      "i new\n",
      "Botswana\n",
      "Botswana new\n",
      "i new\n",
      "China\n",
      "China new\n",
      "i new\n",
      "El Salvadaor\n",
      "El Salvadaor new\n",
      "i new\n",
      "Egypt\n",
      "Egypt new\n",
      "i new\n",
      "Kenya\n",
      "Kenya new\n",
      "i new\n",
      "India\n",
      "India new\n",
      "i new\n",
      "The Netherlands\n",
      "The Netherlands new\n",
      "i new\n",
      "New Zealand\n",
      "New Zealand new\n",
      "i new\n",
      "Oman\n",
      "Oman new\n",
      "i new\n",
      "Poland\n",
      "Poland new\n",
      "i new\n",
      "United States\n",
      "United States new\n",
      "i new\n",
      "Viet Nam\n",
      "Viet Nam new\n",
      "i new\n",
      "Canada\n",
      "Canada new\n",
      "i new\n",
      "45\n"
     ]
    }
   ],
   "source": [
    "for i in country_codes:\n",
    "    print(i)\n",
    "    print(str(i)+' new')\n",
    "    print('i' + ' new')\n",
    "    print(15*3)\n",
    "# When I use the print function, I am just telling it to print stuff,\n",
    "#so it doesn't actually change the existing list in country_codes"
   ]
  },
  {
   "cell_type": "markdown",
   "metadata": {},
   "source": [
    "### Initializing\n",
    "Often, we may want to add 1 to an existing number and build from that. \n",
    "In order to do this, I must **initialize** the for loop with some value"
   ]
  },
  {
   "cell_type": "code",
   "execution_count": 1,
   "metadata": {},
   "outputs": [
    {
     "name": "stdout",
     "output_type": "stream",
     "text": [
      "15\n",
      "1\n",
      "30\n",
      "2\n",
      "45\n",
      "3\n"
     ]
    }
   ],
   "source": [
    "list1 = [5,10,15]\n",
    "#I initialize the variable x to start at 0\n",
    "c = 0\n",
    "# range has the ability that you can count by any number (not just 1 by 1, but whatever amount)\n",
    "for i in list1:\n",
    "    x = i*3\n",
    "    c = c+1\n",
    "    print(x)\n",
    "    print(c) #I'm printing to see what the for loop is doing\n"
   ]
  },
  {
   "cell_type": "code",
   "execution_count": 2,
   "metadata": {},
   "outputs": [
    {
     "ename": "NameError",
     "evalue": "name 'b' is not defined",
     "output_type": "error",
     "traceback": [
      "\u001b[0;31m---------------------------------------------------------------------------\u001b[0m",
      "\u001b[0;31mNameError\u001b[0m                                 Traceback (most recent call last)",
      "\u001b[0;32m<ipython-input-2-794c33b8b833>\u001b[0m in \u001b[0;36m<module>\u001b[0;34m\u001b[0m\n\u001b[1;32m      5\u001b[0m \u001b[0;31m# range has the ability that you can count by any number (not just 1 by 1, but whatever amount)\u001b[0m\u001b[0;34m\u001b[0m\u001b[0;34m\u001b[0m\u001b[0;34m\u001b[0m\u001b[0m\n\u001b[1;32m      6\u001b[0m \u001b[0;32mfor\u001b[0m \u001b[0mi\u001b[0m \u001b[0;32min\u001b[0m \u001b[0mlist1\u001b[0m\u001b[0;34m:\u001b[0m\u001b[0;34m\u001b[0m\u001b[0;34m\u001b[0m\u001b[0m\n\u001b[0;32m----> 7\u001b[0;31m     \u001b[0mb\u001b[0m \u001b[0;34m=\u001b[0m \u001b[0mb\u001b[0m\u001b[0;34m+\u001b[0m\u001b[0;36m1\u001b[0m\u001b[0;34m\u001b[0m\u001b[0;34m\u001b[0m\u001b[0m\n\u001b[0m\u001b[1;32m      8\u001b[0m     \u001b[0mprint\u001b[0m\u001b[0;34m(\u001b[0m\u001b[0mc\u001b[0m\u001b[0;34m)\u001b[0m \u001b[0;31m#I'm printing to see what the for loop is doing\u001b[0m\u001b[0;34m\u001b[0m\u001b[0;34m\u001b[0m\u001b[0m\n",
      "\u001b[0;31mNameError\u001b[0m: name 'b' is not defined"
     ]
    }
   ],
   "source": [
    "#Here is an error when you don't initialize\n",
    "# you define b with b, but b doesn't exist, yet.\n",
    "list1 = [5,10,15]\n",
    "#I initialize the variable x to start at 0\n",
    "# range has the ability that you can count by any number (not just 1 by 1, but whatever amount)\n",
    "for i in list1:\n",
    "    b = b+1\n",
    "    print(c) #I'm printing to see what the for loop is doing"
   ]
  },
  {
   "cell_type": "code",
   "execution_count": 3,
   "metadata": {},
   "outputs": [
    {
     "name": "stdout",
     "output_type": "stream",
     "text": [
      "1\n",
      "2\n",
      "3\n"
     ]
    }
   ],
   "source": [
    "list1 = [5,10,15]\n",
    "#I initialize the variable x to start at 0\n",
    "c = 0\n",
    "# range has the ability that you can count by any number (not just 1 by 1, but whatever amount)\n",
    "for i in list1:\n",
    "    c +=1\n",
    "    print(c) #I'm printing to see what the for loop is doing"
   ]
  },
  {
   "cell_type": "markdown",
   "metadata": {},
   "source": [
    "### Nested Conditionals"
   ]
  },
  {
   "cell_type": "code",
   "execution_count": 4,
   "metadata": {},
   "outputs": [
    {
     "name": "stdout",
     "output_type": "stream",
     "text": [
      "6\n",
      "11\n",
      "16\n",
      "21\n"
     ]
    }
   ],
   "source": [
    "#Let's add an if condition to this for loop\n",
    "y=0\n",
    "for i in range(5,25,5):\n",
    "    x = i+1\n",
    "    if x >8:\n",
    "        y = x*2\n",
    "    print(x)"
   ]
  },
  {
   "cell_type": "markdown",
   "metadata": {},
   "source": [
    "What value is y?"
   ]
  },
  {
   "cell_type": "code",
   "execution_count": 9,
   "metadata": {},
   "outputs": [
    {
     "name": "stdout",
     "output_type": "stream",
     "text": [
      "1\n",
      "2\n",
      "3\n"
     ]
    },
    {
     "data": {
      "text/plain": [
       "[1, 2, 3]"
      ]
     },
     "execution_count": 9,
     "metadata": {},
     "output_type": "execute_result"
    }
   ],
   "source": [
    "list1 = [5,10,15]\n",
    "#I initialize the variable x to start at 0\n",
    "c = 0\n",
    "list2 = []\n",
    "\n",
    "# range has the ability that you can count by any number (not just 1 by 1, but whatever amount)\n",
    "for i in list1:\n",
    "    c +=1\n",
    "    list2.append(c)\n",
    "    print(c) #I'm printing to see what the for loop is doing\n",
    "list2    "
   ]
  },
  {
   "cell_type": "code",
   "execution_count": null,
   "metadata": {},
   "outputs": [],
   "source": [
    "\n",
    "for i in range(5,25,5):\n",
    "    x = i+1\n",
    "    if x >8:\n",
    "        y = x*2\n",
    "    else:\n",
    "        y = x/2\n",
    "    print(y)"
   ]
  },
  {
   "cell_type": "markdown",
   "metadata": {},
   "source": [
    "### Debugging for loops"
   ]
  },
  {
   "cell_type": "code",
   "execution_count": null,
   "metadata": {},
   "outputs": [],
   "source": [
    "### Debugging for loops\n",
    "#name that error!\n",
    "for i in list1:\n",
    "    x = i*3\n",
    "    if x <10:\n",
    "        print('done)\n",
    "    elif x<1000:\n",
    "        x = x+10\n",
    "    else:\n",
    "        x = x/100"
   ]
  },
  {
   "cell_type": "code",
   "execution_count": null,
   "metadata": {
    "scrolled": true
   },
   "outputs": [],
   "source": [
    "### Debugging for loops\n",
    "for i in list1:\n",
    "    x = i*3\n",
    "    if x <10\n",
    "        print('done')\n",
    "    elif x<1000:\n",
    "        x = x+10\n",
    "    else:\n",
    "        x = x/100"
   ]
  },
  {
   "cell_type": "code",
   "execution_count": null,
   "metadata": {},
   "outputs": [],
   "source": [
    "# optional: careful thinking through this complex logic\n",
    "# I want it to print everytime a value is less than 10, how do I fix this?\n",
    "list1 = [1,5,10,15]\n",
    "\n",
    "for i in list1:\n",
    "    x = i*3\n",
    "    if x <10:\n",
    "        x\n",
    "    elif x>10:\n",
    "        x = x+10\n",
    "        print(x)\n",
    "    else:\n",
    "        x = x/100              "
   ]
  },
  {
   "cell_type": "markdown",
   "metadata": {},
   "source": [
    "# A moment of your time\n",
    "\n",
    "Sometimes you will run code that might take a very long time or you might want to learn how to speed up code and see which line of code is faster than the other to improve it. There is a function called time that help you do this. It literally just keeps track of time.\n",
    "\n",
    "<img src = 'https://media.giphy.com/media/4QX6y0fQT7yVO/giphy.gif' width = 200>"
   ]
  },
  {
   "cell_type": "code",
   "execution_count": null,
   "metadata": {},
   "outputs": [],
   "source": [
    "import time\n",
    "start = time.time()\n",
    "iterations = range(5, 20000000)\n",
    "for i in iterations:\n",
    "    start_it1 = time.time()\n",
    "    x= 5*26\n",
    "    x = x*2\n",
    "    x= x%3\n",
    "#    % = Modulus - remainder of the division of left operand by the right\n",
    "    it1 = time.time()\n",
    "end = time.time()\n",
    "\n",
    "total_time = end-start\n",
    "iteration_time = it1-start_it1\n",
    "# you can print this throughout your for loop to keep track of time for each part of the for loop. \n",
    "#you can also track how long one iteration takes"
   ]
  },
  {
   "cell_type": "code",
   "execution_count": null,
   "metadata": {},
   "outputs": [],
   "source": [
    "print(total_time)\n",
    "iteration_time"
   ]
  },
  {
   "cell_type": "code",
   "execution_count": null,
   "metadata": {},
   "outputs": [],
   "source": []
  }
 ],
 "metadata": {
  "celltoolbar": "Slideshow",
  "kernelspec": {
   "display_name": "Python 3",
   "language": "python",
   "name": "python3"
  },
  "language_info": {
   "codemirror_mode": {
    "name": "ipython",
    "version": 3
   },
   "file_extension": ".py",
   "mimetype": "text/x-python",
   "name": "python",
   "nbconvert_exporter": "python",
   "pygments_lexer": "ipython3",
   "version": "3.8.5"
  }
 },
 "nbformat": 4,
 "nbformat_minor": 2
}
